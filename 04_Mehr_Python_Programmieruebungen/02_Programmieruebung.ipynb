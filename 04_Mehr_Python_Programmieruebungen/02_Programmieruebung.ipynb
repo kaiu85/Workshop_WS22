{
 "cells": [
  {
   "cell_type": "markdown",
   "metadata": {},
   "source": [
    "# Das erste Python Programm"
   ]
  },
  {
   "cell_type": "code",
   "execution_count": null,
   "metadata": {},
   "outputs": [],
   "source": [
    "print('Hello world!')"
   ]
  },
  {
   "cell_type": "markdown",
   "metadata": {},
   "source": [
    "# Variablen & Typen\n",
    "\n",
    "Variablen und deren Typ müssen in Python nicht deklariert (bekannt gegeben) werden, bevor man sie verwenden kann\n",
    "\n",
    "<p> </p>\n",
    "\n",
    "- **int**: Ganzzahl\n",
    "- **float**: Gleitkommazahl\n",
    "- **str**: Zeichenkette (String)\n",
    "- **bool**: Wahr oder Falsch\n",
    "\n",
    "<p> </p>\n",
    "\n",
    "Beispiele:\n",
    "- Konvertierung int -> float\n",
    "- Konvertierung float <- int\n",
    "- Konvertierung str -> int\n",
    "- Konvertierung int -> str\n",
    "- Rechenoperationen mit Zahlen\n",
    "- Zahlen und Wörter addieren?\n",
    "- Indizieren von Zeichenketten"
   ]
  },
  {
   "cell_type": "code",
   "execution_count": null,
   "metadata": {},
   "outputs": [],
   "source": [
    "zahl = 1\n",
    "wort = 'Digitale'\n",
    "richtig = True"
   ]
  },
  {
   "cell_type": "code",
   "execution_count": null,
   "metadata": {},
   "outputs": [],
   "source": [
    "str(zahl)+ ' ' + wort"
   ]
  },
  {
   "cell_type": "markdown",
   "metadata": {},
   "source": [
    "# Manipulation von Zeichenketten\n",
    "- Zeicheketten verbinden\n",
    "- Teile von Zeichenketten ersetzen\n",
    "- Tab-Completion"
   ]
  },
  {
   "cell_type": "code",
   "execution_count": null,
   "metadata": {},
   "outputs": [],
   "source": [
    "wort2 = 'Medizin'"
   ]
  },
  {
   "cell_type": "markdown",
   "metadata": {},
   "source": [
    "# Einige Datenstrukturen\n",
    "- Listen\n",
    "- Dictionaries\n",
    "\n",
    "Beispiele:\n",
    "- Erstellen\n",
    "- Zugriff\n",
    "- Manipulation\n",
    "- Operationen auf Listen"
   ]
  },
  {
   "cell_type": "code",
   "execution_count": null,
   "metadata": {},
   "outputs": [],
   "source": [
    "liste = ['eins', 'zwei', 'drei', 'vier']\n",
    "sammlung = {'Fahrzeug': 'Auto', 'Räder': 4}"
   ]
  },
  {
   "cell_type": "markdown",
   "metadata": {},
   "source": [
    "# Funktionen\n",
    " - Kapseln von Aufgaben in einer Funktion\n",
    " - Keyword **def**\n",
    " - Funktionsparameter: optional; Objekt, welches an die Funktion übergeben wird\n",
    " - Rückgabewert: optional; Ergebnis der \"Berechnung / Manipulation\""
   ]
  },
  {
   "cell_type": "code",
   "execution_count": null,
   "metadata": {},
   "outputs": [],
   "source": [
    "def berechne_quadrat(zahl):\n",
    "    ergebnis = zahl*zahl\n",
    "    return ergebnis"
   ]
  },
  {
   "cell_type": "markdown",
   "metadata": {},
   "source": [
    "# Schleifen"
   ]
  },
  {
   "cell_type": "code",
   "execution_count": null,
   "metadata": {},
   "outputs": [],
   "source": [
    "for wort in liste:\n",
    "    print(wort.capitalize())"
   ]
  },
  {
   "cell_type": "code",
   "execution_count": null,
   "metadata": {},
   "outputs": [],
   "source": [
    "i = 1\n",
    "while i < 10:\n",
    "    print(i)\n",
    "    i = i + 1"
   ]
  },
  {
   "cell_type": "markdown",
   "metadata": {},
   "source": [
    "# Wichtige Operatoren\n",
    "- Gleich: == ; Achtung = ist eine Zuweisung\n",
    "- Ungleich: !=\n",
    "- Größer: >\n",
    "- Größer gleich: >=\n",
    "- Kleiner <\n",
    "- Kleiner gleich: <=\n",
    "- Oder: or\n",
    "- (nicht) Enthalten in einer Liste: (not) in; Achtung kompletter Eintrag wird verglichen"
   ]
  },
  {
   "cell_type": "code",
   "execution_count": null,
   "metadata": {},
   "outputs": [],
   "source": [
    "wahr = (1 == 1)\n",
    "print(wahr)"
   ]
  },
  {
   "cell_type": "markdown",
   "metadata": {},
   "source": [
    "# Kontrollstrukturen\n"
   ]
  },
  {
   "cell_type": "code",
   "execution_count": null,
   "metadata": {},
   "outputs": [],
   "source": [
    "name = 'Foo'\n",
    "if name == 'Foo':\n",
    "    print('Mein Name ist {}'.format('Foo'))\n",
    "elif name == 'Bar':\n",
    "    print('Hi')\n",
    "else:\n",
    "    print('Mein Name ist Hase.')"
   ]
  },
  {
   "cell_type": "code",
   "execution_count": null,
   "metadata": {},
   "outputs": [],
   "source": [
    "a = 5\n",
    "b = 10\n",
    "if a < b:\n",
    "    print('{} ist kleiner als {}'.format(a, b))"
   ]
  },
  {
   "cell_type": "markdown",
   "metadata": {},
   "source": [
    "# Fragen\n",
    "- Was ist eine Variable?\n",
    "- Was ist ein Funktion und wie lautet die Syntax?\n",
    "- Welche Datentypen kennen Sie?\n",
    "- Wie kann man Variablen miteinader vergleichen? \n",
    "- Fragen?"
   ]
  },
  {
   "cell_type": "markdown",
   "metadata": {},
   "source": [
    "# Aufgabe\n",
    "1. Schreiben Sie eine Funktion, die\n",
    "    - Als Eingabe eine Liste von Tiernamen erhält\n",
    "        - Affe, Katze, Hund, Ameisenbär, Elefant, Antilope, Wolf, Schlange, Fisch\n",
    "    - Über die Liste iteriert und bei allen Wörtern, die mit *'A'* anfangen den String *' ist ein Tier'* anhängt\n",
    "    - Die  modifizierte Liste zurückgibt\n",
    "2. Weisen Sie das Ergebnis der Funktion einem Objekt zu und geben Sie dieses aus\n",
    "3. Wie muss die Funktion modifiziert werden, so dass alle Tiere die ein 'a' enhalten berücksichtigt werden?    \n"
   ]
  },
  {
   "cell_type": "markdown",
   "metadata": {},
   "source": [
    "<details><summary>Klicken sie hier für eine mögliche Lösung</summary>\n",
    "<p>\n",
    "\n",
    "```python\n",
    "\n",
    "# Eine mögliche Lösung\n",
    "tn = ['Affe', 'Katze', 'Hund', 'Ameisenbär', 'Elefant', 'Antilope', 'Wolf', 'Schlange', 'Fisch']\n",
    "def manipuliere(tiernamen, suffix='ist ein Tier'):\n",
    "    '''\n",
    "    Eingabe: eine Liste mit Tiernamen\n",
    "    Ausgabe: Alle Namen die mit A beginnen + die Zeichenkette 'ist ein Tier'\n",
    "    '''\n",
    "    ergebnis = [] #  eine leere Liste für die manipulierten Zeichenketten\n",
    "    for tier in tiernamen:\n",
    "        if tier.startswith('A'):\n",
    "            ergebnis.append(tier + suffix)\n",
    "    return ergebnis\n",
    "antwort = manipuliere(tn)\n",
    "print(antwort)\n",
    "\n",
    "# Eine andere mögliche Lösung\n",
    "def manipuliere(tiernamen):\n",
    "    suffix = 'ist ein Tier'\n",
    "    return [tier + suffix for tier in tiernamen if tier.startswith('A')]\n",
    "print(manipuliere(tn))\n",
    "\n",
    "def manipuliere2(tiernamen):\n",
    "    '''\n",
    "    Eingabe: eine Liste mit Tiernamen\n",
    "    Ausgabe: Alle Namen die ein A oder a enthalten + die Zeichenkette 'ist ein Tier'\n",
    "    '''\n",
    "    suffix = ' ist ein Tier' # die Zeichenkette, die angehängt werden soll\n",
    "    ergebnis = [] #  eine leere Liste für die manipulierten Zeichenketten\n",
    "    for tier in tiernamen:\n",
    "        if tier.startswith('A') or 'a' in tier:\n",
    "            ergebnis.append(tier + suffix)\n",
    "    return ergebnis\n",
    "antwort = manipuliere2(tn)\n",
    "print(antwort)\n",
    "\n",
    "```\n",
    "\n",
    "</p>\n",
    "</details>"
   ]
  },
  {
   "cell_type": "markdown",
   "metadata": {},
   "source": []
  }
 ],
 "metadata": {
  "kernelspec": {
   "display_name": "Python 3",
   "language": "python",
   "name": "python3"
  },
  "language_info": {
   "codemirror_mode": {
    "name": "ipython",
    "version": 3
   },
   "file_extension": ".py",
   "mimetype": "text/x-python",
   "name": "python",
   "nbconvert_exporter": "python",
   "pygments_lexer": "ipython3",
   "version": "3.7.6"
  }
 },
 "nbformat": 4,
 "nbformat_minor": 2
}
