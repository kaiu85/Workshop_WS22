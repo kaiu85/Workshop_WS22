{
 "cells": [
  {
   "cell_type": "markdown",
   "metadata": {
    "slideshow": {
     "slide_type": "slide"
    }
   },
   "source": [
    "# Einführung Programmierung\n",
    "- Allgemeine Übersicht Programmiersprachen\n",
    "- Informationen zu Python & Jupyter\n",
    "- Python\n",
    "    - Datentypen\n",
    "    - Variablen, Funktionen, Objekte\n",
    "    - Listen und Dictionaires\n",
    "    - Kontrollstrukturen\n",
    "    - Schleifen\n",
    "    - Übungsaufgabe"
   ]
  },
  {
   "cell_type": "markdown",
   "metadata": {
    "slideshow": {
     "slide_type": "slide"
    }
   },
   "source": [
    "# Programmiersprachen allgemein\n",
    "- Grob wird unterschieden zwischen höheren Sprachen und Maschinensprachen\n",
    "  - Beispiele für Hochsprachen: Python, C++, Java\n",
    "  - Beispiel für Maschinensprache: Assembler\n",
    "\n",
    "<img src=\"images/python_code.png\" style=\"float: left; width: 30%; margin-right: 1%; margin-bottom: 0.5em;\">\n",
    "\n",
    "<img src=\"images/FASM.png\" style=\"float: left; width: 30%; margin-right: 1%; margin-bottom: 0.5em;\">\n",
    "\n",
    "<p style=\"clear: both;\">\n"
   ]
  },
  {
   "cell_type": "markdown",
   "metadata": {
    "slideshow": {
     "slide_type": "slide"
    }
   },
   "source": [
    "# Interpreter vs. Compiler\n",
    "- Ein Interpreter ist ein Computerprogramm, das den Programm-Quellcode einliest, analysiert und ausführt. Die Übersetzung des Quellcodes erfolgt also **zur Laufzeit** des Programmes.\n",
    "- Da keine direkt ausführbare Datei entsteht, muss der Interpreter auf dem Zielsystem verfügbar sein.\n",
    "- Ein Compiler ist ein Computerprogramm, das Quellcode so in ein *semantisches Äquivalent* übersetzt, dass ein vom Computer ausführbares Programm entsteht.\n",
    "- Compiler- und Interpreterbau sind eine eigenständige Disziplin innerhalb der Informatik."
   ]
  },
  {
   "cell_type": "markdown",
   "metadata": {
    "slideshow": {
     "slide_type": "slide"
    }
   },
   "source": [
    "# Paradigmen / Stile\n",
    "- Viele Programmiersprachen können\n",
    "    - mehrere Paradigmen gleichzeitig unterstützen\n",
    "    - unterscheidliche Konzepte von statischen (z.B. *Variablen* und *Funktionen*) und dynamischen (z.B. *Kontrollfluss*) Programmelementen enthalten\n",
    "- Grobe Unterteilung in **imperative**, **deklerative** und **objektorientiere** Paradigmen - sowie Mischformem\n",
    "- Objektorientiert Programiersprachen (OOP)"
   ]
  },
  {
   "cell_type": "markdown",
   "metadata": {
    "slideshow": {
     "slide_type": "subslide"
    }
   },
   "source": [
    "# Imperative Programmierung\n",
    "- Eine Folge von Anweisungen, die dem Computer vorgibt, **wie** etwas zu tun ist.\n",
    "- Die \"klassiche\" Art zu programmieren (cf. Lochkarten)\n",
    "- Die meisten Programmiersprachen, darunter auch OOP-Sprachen wie C++ und Java, unterstützen auch die imperative Programmierung.\n",
    "- Deklarative Programmierung kann als Gegenentwurf verstanden werden: Es wird im Quellcode zwar definiert **was** das Programm berechnen soll, aber nicht wie. \n",
    "- I.d.R. Aufteilung des Programms in Funktionen (Prozeduren / Methoden), die dann als logische Einheiten in Module / Bibliotheken zusammengefasst werden können."
   ]
  },
  {
   "cell_type": "markdown",
   "metadata": {
    "slideshow": {
     "slide_type": "subslide"
    }
   },
   "source": [
    "# Deklerative Programmierung\n",
    "- Die Beschreibung des Problems steht im Vordergrund (Was)\n",
    "- Bekannte Vertreter deklarativer Programmiersprachen sind *Haskell, Lisp, Prolog*\n",
    "- Die Programme sind oft kürzer als vergleichbare imperative Programme. ABER schwieriger zu verstehen, wenn man es nicht gewohnt ist.\n",
    "- Bei der *funktionalen* Programmierung werden Funktionen nicht nur definiert und angewendet, sondern können auch miteinander verknüpft, als Parameter verwendet und als Ergebnisse auftreten"
   ]
  },
  {
   "cell_type": "code",
   "execution_count": 18,
   "metadata": {
    "slideshow": {
     "slide_type": "fragment"
    }
   },
   "outputs": [
    {
     "name": "stdout",
     "output_type": "stream",
     "text": [
      "[1, 2, 3, 4, 5, 6, 7, 8, 9, 10]\n"
     ]
    }
   ],
   "source": [
    "# imperativ\n",
    "ergebnis = []\n",
    "for zahl in range(1,11):\n",
    "    ergebnis.append(zahl)\n",
    "print(ergebnis)"
   ]
  },
  {
   "cell_type": "code",
   "execution_count": 20,
   "metadata": {
    "scrolled": true,
    "slideshow": {
     "slide_type": "fragment"
    }
   },
   "outputs": [
    {
     "name": "stdout",
     "output_type": "stream",
     "text": [
      "[1, 2, 3, 4, 5, 6, 7, 8, 9, 10]\n"
     ]
    }
   ],
   "source": [
    "# funktional\n",
    "ergebnis = map(lambda zahl: zahl, range(1, 11))\n",
    "print(list(ergebnis))"
   ]
  },
  {
   "cell_type": "markdown",
   "metadata": {
    "slideshow": {
     "slide_type": "subslide"
    }
   },
   "source": [
    "# Objektorientierte Programmierung (OOP)\n",
    "- Alles ist ein Objekt!\n",
    "- Idee: Die Architektur einer Software wird an der Wirklichkeit ausgerichtet, die durch die Anwendung modelliert werden soll.\n",
    "- Die Umsetzung erfordert die Einführung verschiedener Konzepte, wie z.B. *Klassen* und *Vererbung*.\n",
    "- Daten und deren Funktionen (Methoden) werden zu einer Klasse (einem Objekt) zusammengefasst und so gekapselt, so diese Daten von außen nicht manipuliert werden können. "
   ]
  },
  {
   "cell_type": "markdown",
   "metadata": {
    "slideshow": {
     "slide_type": "slide"
    }
   },
   "source": [
    "# Python ...\n",
    "- ist eine höhere interpretierte Programmiersprache\n",
    "- ist komplett objektorientiert\n",
    "- unterstützt weitere Paradigmen: imperativ und funktional\n",
    "- soll einen gut lesbaren, knappen Programmierstil fördern: der Quellcode wird durch Einrückungen strukturiert.\n"
   ]
  },
  {
   "cell_type": "markdown",
   "metadata": {
    "slideshow": {
     "slide_type": "slide"
    }
   },
   "source": [
    "# Informationen zu Python\n",
    "<img src=\"images/python_logo.png\" style=\"float:right; width: 10%; margin-right: 1%; margin-bottom: 0.5em;\">\n",
    "- Anfang der 90er von Guido Van Rossum ins Leben gerufen\n",
    "- Der Name kommt von Monty Python\n",
    "- Aktuell Version 3.6.x\n",
    "- Extrem viele Bibliotheken, u.a. für Machine Learning (sklearn, pytorch, tensorflow, ...) und Webentwicklung (Django)\n",
    "- Unter den Top-5 Programmiersprachen\n",
    "- Guter Kompromiß zwischen Geschwindigkeit und Umfang des Quellcodes  \n"
   ]
  },
  {
   "cell_type": "markdown",
   "metadata": {
    "slideshow": {
     "slide_type": "slide"
    }
   },
   "source": [
    "# Jupyter Notebooks\n",
    "- Erlaubt interaktive Sitzungen im Webbrowser [http://jupyter.org/]\n",
    "- Zugriff über **http://35.202.82.48:5000/**\n",
    "- Passwort: *Random123DigitaleMedizin*"
   ]
  },
  {
   "cell_type": "markdown",
   "metadata": {
    "slideshow": {
     "slide_type": "slide"
    }
   },
   "source": [
    "# Jupyter Notebooks Tips & Tricks\n",
    "- Code ausführen: **SHIFT+RETURN**\n",
    "- Paket / Bibliothek installieren: **!pip install *package***\n",
    "- Hilfe zu einer Funktion: **FUNKTIONSNAME?**\n",
    "    - Beispiel: *print?* **SHIFT+RETURN**\n",
    "- Tab-Completion\n",
    "    - Beispiel: *wort.* **TAB** -> Auswahlliste der Möglichkeiten\n",
    "- Komandomodus: **ESC** dann \n",
    "    - Neues Feld darüber: **A**\n",
    "    - Neues Feld darunter: **B**\n",
    "    - Feld löschen: **DD**\n",
    "- Diese und weitere Funktionen auch aus dem Menü ausführbar"
   ]
  },
  {
   "cell_type": "markdown",
   "metadata": {
    "slideshow": {
     "slide_type": "subslide"
    }
   },
   "source": [
    "<img src=\"images/notebook_shortcuts_4_0.png\" style=\"float: left; width: 80%; margin-right: 1%; margin-bottom: 0.5em;\">\n"
   ]
  },
  {
   "cell_type": "code",
   "execution_count": null,
   "metadata": {},
   "outputs": [],
   "source": []
  }
 ],
 "metadata": {
  "celltoolbar": "Slideshow",
  "kernelspec": {
   "display_name": "Python 3",
   "language": "python",
   "name": "python3"
  },
  "language_info": {
   "codemirror_mode": {
    "name": "ipython",
    "version": 3
   },
   "file_extension": ".py",
   "mimetype": "text/x-python",
   "name": "python",
   "nbconvert_exporter": "python",
   "pygments_lexer": "ipython3",
   "version": "3.7.6"
  }
 },
 "nbformat": 4,
 "nbformat_minor": 4
}
