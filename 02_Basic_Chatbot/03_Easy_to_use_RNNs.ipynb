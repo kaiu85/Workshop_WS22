{
 "cells": [
  {
   "cell_type": "markdown",
   "metadata": {},
   "source": [
    "# Ready-to-Use RNNs\n",
    "#### Wir haben da mal was vorbereitet!\n",
    "Falls sie RNNs in ihren eigenen Projekten nutzen wollen, haben wir Ihnen in der Datei RNN_helper_functions.py drei Funktionen zur Verfügung gestellt, mit der sie direkt und schnell eigene RNNs trainieren, das Training überwachen, und mit den trainierten Netzwerken Texte generieren können. Diese Datei können sie auch in andere Ordner kopieren, um die Funktionen in Jupyter-Notebooks dort zu verwenden.\n",
    "\n",
    "Um ein neues Netzwerk zu trainieren, können sie die folgende Funktion benutzen. Wir empfehlen Ihnen dabei dringend, der Funktion einen eindeutigen, noch nicht verwendeten Netzwerknamen als Parameter __model_name__ zu übergeben, da die Netzwerkgewichte und andere Parameter des Netzwerks unter diesem Namen gespeichert werden. Sie können dann von anderen Notebooks (im selben Ordner!) aus einfach auf das trainierte Modell und die aufgezeichneten Trainingskurven zugreifen, in dem sie diesen Namen verwenden. Außerdem sollten sie noch den Parameter __data_path__ übergeben, der den Pfad zu der Textdatei mit den Trainingsdaten festlegt. Über alle anderen Parameter müssen sie sich erstmal keine Gedanken machen."
   ]
  },
  {
   "cell_type": "code",
   "execution_count": null,
   "metadata": {},
   "outputs": [],
   "source": [
    "from RNN_helper_functions import train_rnn\n",
    "\n",
    "train_rnn(model_name = 'my_easily_trained_rnn', data_path = './data/recipes.txt')"
   ]
  },
  {
   "cell_type": "markdown",
   "metadata": {},
   "source": [
    "Am besten lassen sie den Trainingsprozess in einem eigenen Jupyter-Notebook laufen. Der Einfachheit halber sammeln wir hier jedoch auch die Funktionen, die sie zur Überwachung des Trainings und zur Textgenerierung benötigen im selben Notebook. Achten sie bitte darauf, immer nur ein RNN gleichzeitig zu trainieren, da sie sich ansonsten mit ihren Kommiliton*innen bezüglich des Arbeitsspeichers ins Gehege kommen könnten.\n",
    "\n",
    "Die Funktion __train_rnn__ besitzt nur sogenannte optionale Parameter. D.h., dass sie keine Parameter übergeben müssen, aber können. Optionale Parameter setzt man mit train_rnn(parameter_name = 'Parameter_Wert'), so wie sie es gerade mit __model_name__ und __data_path__ getan haben.\n",
    "\n",
    "Die möglichen Parameter, sowie ihre Standardwerte (die genutzt werden, wenn kein anderer Wert von Hand spezifiziert wird), sind:\n",
    "\n",
    "```python\n",
    "model_name = 'vanilla' \n",
    "device = 'cuda' \n",
    "data_path = './data/recipes.txt'\n",
    "train_percentage = 0.9\n",
    "valid_percentage = 0.05 \n",
    "hidden_size = 512\n",
    "num_layers = 3\n",
    "dropout = 0.3\n",
    "seq_len = 100\n",
    "num_heads = 16\n",
    "epochs = 10\n",
    "lr = 0.0003\n",
    "load_chk = False\n",
    "log_every = 1000\n",
    "```\n",
    "\n",
    "Die Bedeutung der Parameter ist identisch zur Bedeutung der gleichnamigen Parameter in dem Notebook 01_Train_and_Understand_a_Character_Level_RNN im Ordner 03_RNNs.\n",
    "\n",
    "\n",
    "# Ok, das Training läuft also. Wie geht es weiter?\n",
    "\n",
    "Warten sie ab, bis mindestens zweitausend Trainingsiterationen durchgelaufen sind. Das Netzwerk wird alle __log_every__ iterationen gespeichert. Wie oben gezeigt, ist der Standardwert für diesen Parameter 1000. Dementsprechend wurden nach 2000 Iterationen zwei Zeitpunkte in die Log-Datei geschrieben. Das ist die minimale Anzahl, mit der man die Trainingskurven darstellen kann (ansonsten gibt es eine Fehlermeldung). Dann brechen sie das Training mit \"Kernel->Interrupt\" (in der Menüleiste oben) oder mit einem Klick auf das schwarze Quadrat rechts nebem dem Run-Button ab, damit sie die nächste Zelle ausführen können (wie gesagt sollten sie in der Praxis die beiden folgenden Funktionen innerhalb eines *anderen* Notebooks benutzen, um das Netzwerk untersuchen und benutzen zu können, während es noch trainiert).\n",
    "\n",
    "Um ein Netzwerk zu benutzen, das mit einem anderen Notebook (im selben Ordner) trainiert wurde (oder sogar noch wird), benötigen sie lediglich den entsprechenden Namen des Modells (__model_name__). Die folgende Zelle sollten sie so auch in ein anderes Notebook kopieren und dort ausführen können, solange sie ein Netzwerk mit dem entsprechenden Namen schon trainiert haben.\n",
    "\n",
    "Die Funktion __evaluate_rnn__ gibt den Verlauf des Trainings- und Validierungslosses aus (Stichwort: Overfitting bzw. Early-Stopping), sowie das Loss auf dem Testdatensatz."
   ]
  },
  {
   "cell_type": "code",
   "execution_count": null,
   "metadata": {},
   "outputs": [],
   "source": [
    "from RNN_helper_functions import evaluate_rnn\n",
    "\n",
    "# Damit sagen sie Jupyter, dass sie graphischen Output gerne direkt in das\n",
    "# Notebook plotten möchten, ist nur einmal in jedem Notebook erforderlich.\n",
    "%matplotlib inline\n",
    "\n",
    "evaluate_rnn('my_easily_trained_rnn')"
   ]
  },
  {
   "cell_type": "markdown",
   "metadata": {},
   "source": [
    "Sobald sie sehen, dass das Validierungsloss ein Plateau erreicht oder sogar wieder beginnt zu steigen, beginnt ihr Netzwerk zu überfitten und sie sollten das entsprechende Training beenden (in dem sie in dem Trainingsnotebook ebenfalls \"Kernel->Interrupt\" auswählen bzw. auf das schwarze Quadrat rechts neben dem Run-Button klicken)."
   ]
  },
  {
   "cell_type": "markdown",
   "metadata": {},
   "source": [
    "# Das Validierungsloss hat ein Plateau erreicht (oder ich will vorher schonmal schauen, was mein Netzwerk gelernt hat)\n",
    "\n",
    "Spätestens wenn das Validierungsloss ein Plateau erreicht hat, ist ihr Netzwerk einsatzbereit. Sie können aber auch gerne vorher bereits mit der folgenden Funktion Text generieren. Diese Funktion benötigt ebenfalls den korrekten Modellnamen (__model_name__) und sollte in jedem Notebook, das sich im selben Ordner wie das Trainingsnotebook befindet, funktionieren. Außerdem können sie als Parameter __prompt__ eine Startzeichenfolge übergeben, was z.B. hilfreich sein könnte, um Chat-Konversationen fortzusetzen. Der dritte wichtige Parameter __n__ gibt die Anzahl der zu erzeugenden Zeichen an."
   ]
  },
  {
   "cell_type": "code",
   "execution_count": null,
   "metadata": {},
   "outputs": [],
   "source": [
    "from RNN_helper_functions import sample_from_rnn\n",
    "\n",
    "# Die sample_from_rnn-Funktion erzeugt eine Zeichenkette\n",
    "# - mit einem trainierten Netzwerk (model_name), \n",
    "# - die einen vorgegebenen Text (prompt) fortsetzt\n",
    "# - und eine vorgegebene Länge hat (n)\n",
    "# und gibt diese als String zurück.\n",
    "output_string = sample_from_rnn(model_name = 'my_easily_trained_rnn', prompt = '''Recipe via''', n = 1000)\n",
    "\n",
    "# Zeigt den erzeugten String an\n",
    "print(output_string)"
   ]
  },
  {
   "cell_type": "markdown",
   "metadata": {},
   "source": [
    "# Los geht's\n",
    "\n",
    "Wir hoffen, dass sie nun alles zur Verfügung haben, was sie brauchen, um selbst ein texterzeugendes RNN auf einem von Ihnen gewählten Datensatz (alles, was man in eine .txt-Datei packen kann) zu trainieren, zu evaluieren und zu benutzen. \n",
    "\n",
    "# Disclaimer\n",
    "\n",
    "Die drei Funktionen haben kein großes Debugging, keine Unit-Tests oder andere qualitätssichernden Maßnahmen erhalten. Falls etwas nicht so klappt, wie es sollte, und sie nicht weiterkommen, fragen sie uns bitte __lieber früher als später__. Nichts wäre ärgerlicher, als wenn ihr Code korrekt ist und nur wegen eines Bugs in unseren Hilfsfunktionen nicht funktioniert."
   ]
  },
  {
   "cell_type": "code",
   "execution_count": null,
   "metadata": {},
   "outputs": [],
   "source": []
  }
 ],
 "metadata": {
  "kernelspec": {
   "display_name": "Python 3",
   "language": "python",
   "name": "python3"
  },
  "language_info": {
   "codemirror_mode": {
    "name": "ipython",
    "version": 3
   },
   "file_extension": ".py",
   "mimetype": "text/x-python",
   "name": "python",
   "nbconvert_exporter": "python",
   "pygments_lexer": "ipython3",
   "version": "3.7.6"
  }
 },
 "nbformat": 4,
 "nbformat_minor": 4
}
