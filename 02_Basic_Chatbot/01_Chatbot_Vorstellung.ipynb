{
 "cells": [
  {
   "cell_type": "markdown",
   "metadata": {},
   "source": [
    "# Einführung in Chatbot\n",
    "\n",
    "\n",
    "- Chatten (\"Chat\") und Robot (\"Bot\")\n",
    "- textbasiertes Dialogsystem \n",
    "    - Chatten in Echtzeit mit einem technichen System \n",
    "- gibt entsprechende Antworten von Texteingaben (Keywords) zurück \n",
    "- z.B. im Onlinehandel für Automatisierung von Bestellanfragen der Kunden   \n",
    "    "
   ]
  },
  {
   "cell_type": "markdown",
   "metadata": {},
   "source": [
    "# Geschichte\n",
    "\n",
    "- erste Chatbot ELIZA \n",
    "- im Jahre 1966 von Joseph Weizenbaum\n",
    "- simuliert ein Gespräch mit einem Psychologen\n",
    "<br>\n",
    "<br>\n",
    "\n",
    "##### Textauszug von ELIZA: \n",
    "   * Benutzer: „Ich habe ein Problem mit meinem Vater.“ \n",
    "   * ELIZA: „Erzählen Sie mir mehr über Ihre Familie!“"
   ]
  },
  {
   "cell_type": "markdown",
   "metadata": {},
   "source": [
    "# Kleiner Kurs in der Textverarbeitung"
   ]
  },
  {
   "cell_type": "code",
   "execution_count": 1,
   "metadata": {
    "scrolled": true
   },
   "outputs": [
    {
     "name": "stdout",
     "output_type": "stream",
     "text": [
      "['Hallo.', 'Können', 'sie', 'mir', 'sagen', 'wie', 'das', 'Wetter', 'morgen', 'wird?']\n",
      "Hallo.\n",
      "Können\n",
      "sie\n",
      "mir\n",
      "sagen\n",
      "wie\n",
      "das\n",
      "Wetter\n",
      "morgen\n",
      "wird?\n",
      "Wortnummer: 0\n",
      "Wort: Hallo.\n",
      "\n",
      "Wortnummer: 1\n",
      "Wort: Können\n",
      "\n",
      "Wortnummer: 2\n",
      "Wort: sie\n",
      "\n",
      "Wortnummer: 3\n",
      "Wort: mir\n",
      "\n",
      "Wortnummer: 4\n",
      "Wort: sagen\n",
      "\n",
      "Wortnummer: 5\n",
      "Wort: wie\n",
      "\n",
      "Wortnummer: 6\n",
      "Wort: das\n",
      "\n",
      "Wortnummer: 7\n",
      "Wort: Wetter\n",
      "\n",
      "Wortnummer: 8\n",
      "Wort: morgen\n",
      "\n",
      "Wortnummer: 9\n",
      "Wort: wird?\n",
      "\n"
     ]
    }
   ],
   "source": [
    "### Der Nutzerinput besteht immer aus einer Zeichenkette (man sagt auch, aus einem \"String\")\n",
    "\n",
    "beispiel_input = \"Hallo. Können sie mir sagen wie das Wetter morgen wird?\"\n",
    "\n",
    "### Strings werden durch Anführungszeichen kenntlich gemacht. In Python sind Strings nicht nur einfache Zeichenketten, sondern\n",
    "### bringen eine Reihe von Funktionen mit, die man benutzen kann, um die Strings zu verarbeiten. Zum Beispiel kann man mit der .split() \n",
    "### Funktion einen String in einzelne Teile zerteilen. Dabei übergibt man der Funktion den Buchstaben bzw. das Zeichen,\n",
    "### welches als Trennzeichen fungieren soll.\n",
    "\n",
    "### Probieren wir es mit unserem Beispielinput aus, in dem wir der split-Funktion das Leerzeichen als\n",
    "### Trennzeichen übergeben und das Ergebnis in der Variable \"wortliste\" speichern:\n",
    "\n",
    "wortliste = beispiel_input.split(\" \")\n",
    "\n",
    "### Geben wir die Wortliste aus...\n",
    "\n",
    "print(wortliste)\n",
    "\n",
    "### so sehen wir, dass wir nun eine Liste mit einzelnen Strings (Zeichenketten) erzeugt haben, in dem der \n",
    "### ursprüngliche String bei jedem vorkommenden Trennzeichen-Geschnitte (und das Trennzeichen entfernt) wurde\n",
    "\n",
    "### Wir können über diese Liste nun iterieren, z.B. mit\n",
    "\n",
    "for wort in wortliste:\n",
    "    print(wort)\n",
    "    \n",
    "### Oder (weil es Python ist, gibt es viele Möglichkeiten zum Ziel zu kommen) so:\n",
    "\n",
    "for i in range(len(wortliste)):\n",
    "    \n",
    "    print(\"Wortnummer: \", end=\"\")\n",
    "    print(i)\n",
    "    print(\"Wort: \", end=\"\")\n",
    "    print(wortliste[i])    \n",
    "    print()\n",
    "    \n",
    "    \n",
    "    \n"
   ]
  },
  {
   "cell_type": "code",
   "execution_count": 2,
   "metadata": {},
   "outputs": [
    {
     "name": "stdout",
     "output_type": "stream",
     "text": [
      "Hallo. Können sie mir sagen wie das Wetter morgen wird\n"
     ]
    }
   ],
   "source": [
    "### Um Nutzereingaben zu vereinfachen, kann man bestimmte Zeichen (z.B. Satzzeichen) ersetzen bzw. löschen \n",
    "### (indem man sie durch ein leeres Zeichen, '', ersetzt).\n",
    "\n",
    "beispiel_input_clean = beispiel_input.replace('?','')\n",
    "\n",
    "### Geben wir den \"gesäuberten\" Input aus...\n",
    "\n",
    "print(beispiel_input_clean)\n",
    "    \n",
    "### Sehen sie den Unterschied?"
   ]
  },
  {
   "cell_type": "code",
   "execution_count": 3,
   "metadata": {},
   "outputs": [
    {
     "name": "stdout",
     "output_type": "stream",
     "text": [
      "hallo. können sie mir sagen wie das wetter morgen wird?\n"
     ]
    }
   ],
   "source": [
    "### Des weiteren können wir alle Buchstaben in einem String in Kleinschreibung (\"lower case\") umwandeln, \n",
    "### was uns später das Vergleichen mit einzelnen Zielwörtern einfacher machen wird.\n",
    "\n",
    "beispiel_input_lower = beispiel_input.lower()\n",
    "\n",
    "### Geben wir den bearbeiteten Input aus...\n",
    "\n",
    "print(beispiel_input_lower)\n",
    "    \n",
    "### Sehen sie den Unterschied?"
   ]
  },
  {
   "cell_type": "code",
   "execution_count": null,
   "metadata": {},
   "outputs": [],
   "source": [
    "### Alle diese Operationen kann man natürlich kombinieren, da die einzelnen Funktionen\n",
    "### immer wieder (Listen von) Zeichenketten ausgeben."
   ]
  },
  {
   "cell_type": "code",
   "execution_count": 4,
   "metadata": {},
   "outputs": [
    {
     "ename": "TypeError",
     "evalue": "can't multiply sequence by non-int of type 'float'",
     "output_type": "error",
     "traceback": [
      "\u001b[0;31m---------------------------------------------------------------------------\u001b[0m",
      "\u001b[0;31mTypeError\u001b[0m                                 Traceback (most recent call last)",
      "\u001b[0;32m<ipython-input-4-7715f07a6cde>\u001b[0m in \u001b[0;36m<module>\u001b[0;34m\u001b[0m\n\u001b[1;32m      9\u001b[0m \u001b[0mzeichenkette\u001b[0m \u001b[0;34m=\u001b[0m \u001b[0;34m\"65.0\"\u001b[0m\u001b[0;34m\u001b[0m\u001b[0;34m\u001b[0m\u001b[0m\n\u001b[1;32m     10\u001b[0m \u001b[0;34m\u001b[0m\u001b[0m\n\u001b[0;32m---> 11\u001b[0;31m \u001b[0mergebnis\u001b[0m \u001b[0;34m=\u001b[0m \u001b[0mzahl\u001b[0m\u001b[0;34m*\u001b[0m\u001b[0mzeichenkette\u001b[0m\u001b[0;34m\u001b[0m\u001b[0;34m\u001b[0m\u001b[0m\n\u001b[0m\u001b[1;32m     12\u001b[0m \u001b[0;34m\u001b[0m\u001b[0m\n\u001b[1;32m     13\u001b[0m \u001b[0;34m\u001b[0m\u001b[0m\n",
      "\u001b[0;31mTypeError\u001b[0m: can't multiply sequence by non-int of type 'float'"
     ]
    }
   ],
   "source": [
    "### Wenn wir den Nutzer nach Zahleneingaben fragen und mit diesen Zahlen rechnen wollen, müssen wir diese zuerst \n",
    "### von einer Zeichenkette (z.B. \"65.0\") in eine Zahl umwandeln (z.B. 65 oder 65.0). Das geht mit \n",
    "### str(), float() und int()\n",
    "### float() -> Kommazahl   z.B. 3.6, 2.0\n",
    "### int() -> Ganzzahl      z.B. 3, 2\n",
    "\n",
    "zahl = 5.0\n",
    "\n",
    "zeichenkette = \"65.0\"\n",
    "\n",
    "ergebnis = zahl*zeichenkette\n",
    "\n",
    "\n",
    "print(ergebnis)"
   ]
  },
  {
   "cell_type": "code",
   "execution_count": null,
   "metadata": {},
   "outputs": [],
   "source": [
    "### Die Funktion input() speichert die Tastatureingabe als String\n",
    "\n",
    "eingabe = input(\"Hallo\")\n",
    "\n",
    "### Das Programm wartet solange bis Sie im Textfeld die ENTER-Taste gedrückt haben\n",
    "### Sie können auch das Textfeld leer lassen und ENTER drücken\n",
    "print(eingabe)"
   ]
  },
  {
   "cell_type": "code",
   "execution_count": 10,
   "metadata": {},
   "outputs": [
    {
     "name": "stdout",
     "output_type": "stream",
     "text": [
      "{'Größe': '1,80 m', 'Alter': '20 Jahre', 'Geburtsdatum': '01.01.2001'}\n",
      "20 Jahre\n"
     ]
    }
   ],
   "source": [
    "### Ein Dictionary beinhaltet gebundene Daten in folgender Form:  \"Key\" : \"Value\"\n",
    "\n",
    "\n",
    "thisDict = {\n",
    "  \"Größe\": \"1,80 m\",\n",
    "  \"Alter\": \"20 Jahre\",\n",
    "  \"Geburtsdatum\": \"01.01.2001\"\n",
    "}\n",
    "\n",
    "### Der Dictionary thisDict hat drei gebundene Daten: \"Größe\": \"1,80 m\" ,  \"Alter\": \"20 Jahre\" \n",
    "### und noch \"Geburtsdatum\": \"01.01.2001\"\n",
    "\n",
    "print(thisDict)   \n",
    "\n",
    "\n",
    "### Man kann durch die Eingabe eines bestimmten Key den dazugehörigen Value ausgeben lassen\n",
    "\n",
    "print(thisDict[\"Alter\"])\n",
    "\n",
    "\n"
   ]
  },
  {
   "cell_type": "code",
   "execution_count": 5,
   "metadata": {},
   "outputs": [
    {
     "name": "stdout",
     "output_type": "stream",
     "text": [
      "Tag\n"
     ]
    }
   ],
   "source": [
    "### Mit dem Paket random kann man zufällige Ausgaben einrichten\n",
    "### Die funktion random.choice( Liste ) nimmt einen zufälligen String von der Liste\n",
    "import random\n",
    "\n",
    "a1 = [\"Tag\", \"Monat\", \"Jahr\"]\n",
    "\n",
    "zufall = random.choice(a1)\n",
    "\n",
    "print(zufall)"
   ]
  },
  {
   "cell_type": "markdown",
   "metadata": {},
   "source": [
    "# Ablaufdiagramm vom Chatbot"
   ]
  },
  {
   "cell_type": "markdown",
   "metadata": {},
   "source": [
    "   - Start- und Endzustand\n",
    "   - Blöcke mit Abzweigungen (Raute)\n",
    "\n",
    " "
   ]
  },
  {
   "cell_type": "markdown",
   "metadata": {},
   "source": [
    "Am Anfang wird nur ein Teil des Ablaufdiagramms betrachtet."
   ]
  },
  {
   "cell_type": "markdown",
   "metadata": {},
   "source": [
    "<div>\n",
    "<img src=\"ablauf1.png\", width=\"400\"/>\n",
    "</div>"
   ]
  },
  {
   "cell_type": "code",
   "execution_count": null,
   "metadata": {},
   "outputs": [],
   "source": [
    "# Falls beim Ausführen ihr Code lange braucht -> rechter Mausklick und Restart Kernel drücken\n",
    "\n",
    "\n",
    "#Startzustand\n",
    "\n",
    "#Gruß vom Chatbot\n",
    "print(\"Willkommen beim Chatbot\")\n",
    "print(\"Worüber würden Sie gerne heute sprechen?\")\n",
    "print(\"Zum Beenden einfach 'bye' eintippen\")\n",
    "print(\"\")\n",
    "\n",
    "\n",
    "# Aufgabe 1:\n",
    "# Schreiben Sie hier Ihren Code für die blauen Blöcke.\n",
    "# Hinweis: Betrachten Sie die Rauteblöcke als While-Schleifen und beginnen Sie mit der Raute (Texteingabe != \"bye\")\n",
    "\n",
    "\n",
    "\n",
    "\n",
    "\n",
    "\n",
    "\n",
    "\n",
    "\n",
    "# Endzustand\n",
    "print(\"Einen schönen Tag wünsche ich Dir. Bis zum nächsten Mal\")\n",
    "\n",
    "\n",
    "\n"
   ]
  },
  {
   "cell_type": "markdown",
   "metadata": {},
   "source": [
    "#### Aufgabe 2"
   ]
  },
  {
   "cell_type": "markdown",
   "metadata": {},
   "source": [
    "<div>\n",
    "<img src=\"ablauf2.png\", width=\"800\"/>\n",
    "</div>"
   ]
  },
  {
   "cell_type": "markdown",
   "metadata": {},
   "source": [
    "In dieser Aufgabe werden die Antworten (Textausgaben) vom Chatbot erstellt.\n",
    "Dabei unterscheidet man zwischen zwei Arten von Textausgaben:\n",
    "   - passende Textausgabe: falls das Einzelwort ein Key vom Dictionary ist, soll der Chatbot den dazugehörigen Value vom Key ausgeben\n",
    "   <br>\n",
    "   - zufällige Textausgabe: falls das Einzelwort kein Key vom Dictionary ist, soll der Chatbot einen zufälligen Text ausgeben\n",
    "\n",
    "    "
   ]
  },
  {
   "cell_type": "raw",
   "metadata": {},
   "source": [
    "Beispiel:\n",
    "\n",
    "reaktionsantworten = { \"größe\": \"1,80 m\", \"alter\": \"20 Jahre\", \"geburtsdatum\": \"01.01.2001\"}\n",
    "zufallsantworten = [\"Oh, wirklich\", \"Interessant...\", \"Können Sie genauers dazu sagen?\"]\n",
    "\n",
    "\n",
    "\n",
    "Ausgaben vom Code:\n",
    "\n",
    "Chatbot: Hallo, wie kann ich Ihnen helfen?\n",
    "\n",
    "Nutzer: Hallo\n",
    "Chatbot: Interessant...\n",
    "\n",
    "Nutzer: Was ist dein alter?!?\n",
    "Chatbot: 20 Jahre\n",
    "\n",
    "Nutzer: Vielen Dank\n",
    "Chatbot: Können Sie genauers dazu sagen?\n",
    "\n",
    "Nutzer: bye\n",
    "Chatbot: Interessant...\n",
    "Chatbot: Einen schönen Tag wünsche ich Dir. Bis zum nächsten Mal\n"
   ]
  },
  {
   "cell_type": "code",
   "execution_count": null,
   "metadata": {},
   "outputs": [],
   "source": [
    "## Schreiben Sie den Code für die zweite Häflte vom Ablaufdiagramm\n",
    "## Sie können einen individuellen Chatbot erstellen, \n",
    "## z.B. für eine Produktbestellung (Impfdosen), BMI-Rechner oder ein Smalltalk.\n"
   ]
  },
  {
   "cell_type": "code",
   "execution_count": null,
   "metadata": {},
   "outputs": [],
   "source": [
    "# Paket random wird importiert\n",
    "# nötig für zufällige Zahlen bzw. zufällige Textausgaben\n",
    "import random\n",
    "\n",
    "#Führen Sie diese Zelle einmal aus und arbeiten Sie dann in der nächsten Zelle weiter"
   ]
  },
  {
   "cell_type": "code",
   "execution_count": null,
   "metadata": {},
   "outputs": [],
   "source": [
    "\n",
    "# die Strings bei 'zufallsantworten' und 'reaktionsantworten' können Sie ändern\n",
    "zufallsantworten=[\"Oh, wirklich\", \"Interessant ...\", \"Das kann man so sehen\", \"Ich verstehe ...\"]\n",
    "\n",
    "# reaktionsantworten sind die passende Antworten bzw. ein Dictionary \n",
    "reaktionsantworten = {\"hallo\": \"aber Hallo\", \n",
    "                      \"geht\": \"Was verstehst du darunter?\", \n",
    "                      \"essen\": \"Ich habe leider keinen Geschmackssinn :(\"}\n",
    "\n",
    "\n",
    "\n",
    "\n",
    "#Gruß vom Chatbot\n",
    "print(\"Willkommen beim Chatbot\")\n",
    "print(\"Worüber würden Sie gerne heute sprechen?\")\n",
    "print(\"Zum Beenden einfach 'bye' eintippen\")\n",
    "print(\"\")\n",
    "\n",
    "\n",
    "\n",
    "\n",
    "### Fügen Sie hier Ihren Code von den letzten Aufgabe ein\n",
    "\n",
    "\n",
    "\n",
    "\n",
    "\n",
    "\n",
    "\n",
    "\n",
    "### Schreiben Sie hier Ihren Code.\n",
    "### Hinweis: Betrachten Sie den neuen Rauteblock als eine IF-Else-Bedingung\n",
    " \n",
    "\n",
    "\n",
    "\n",
    "    \n",
    "    \n",
    "\n",
    "\n",
    "\n",
    "\n",
    "print(\"Einen schönen Tag wünsche ich Dir. Bis zum nächsten Mal\")\n",
    "\n",
    "\n",
    "# Bonusfragen: Was passiert, wenn man zwei Keys (Einzelwörter) in einer Texteingabe hat\n",
    "#              Schreiben Sie alle Fälle auf, wann Ihr Code einen Fehler anzeigt bei der Texteingabe\n"
   ]
  }
 ],
 "metadata": {
  "kernelspec": {
   "display_name": "Python 3",
   "language": "python",
   "name": "python3"
  },
  "language_info": {
   "codemirror_mode": {
    "name": "ipython",
    "version": 3
   },
   "file_extension": ".py",
   "mimetype": "text/x-python",
   "name": "python",
   "nbconvert_exporter": "python",
   "pygments_lexer": "ipython3",
   "version": "3.8.5"
  }
 },
 "nbformat": 4,
 "nbformat_minor": 5
}
