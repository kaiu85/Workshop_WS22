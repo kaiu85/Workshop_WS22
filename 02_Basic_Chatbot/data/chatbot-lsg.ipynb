{
 "cells": [
  {
   "cell_type": "code",
   "execution_count": null,
   "metadata": {},
   "outputs": [],
   "source": [
    "# https://www.python-lernen.de/chatbot-programmieren.htm"
   ]
  },
  {
   "cell_type": "markdown",
   "metadata": {},
   "source": [
    "## Einführung in Chatbot "
   ]
  },
  {
   "cell_type": "markdown",
   "metadata": {},
   "source": [
    "# Einführung in Chatbot\n",
    "\n",
    "\n",
    "- Chatten (\"Chat\") und Robot (\"Bot\")\n",
    "- textbasiertes Dialogsystem \n",
    "    - Chatten in Echtzeit mit einem technichen System \n",
    "- gibt entsprechende Antworten von Texteingaben (bei bestimmten Keywords) zurück \n",
    "- oft im Onlinehandel für Automatisierung von Bestellanfragen der Kunden     \n",
    "    \n",
    "\n",
    "https://www.bigdata-insider.de/was-ist-ein-chatbot-a-690591/"
   ]
  },
  {
   "cell_type": "markdown",
   "metadata": {},
   "source": [
    "# Geschichte\n",
    "\n",
    "- erste Chatbot ELIZA \n",
    "- im Jahre 1966 von Joseph Weizenbaum\n",
    "- simuliert ein Gespräch mit einem Psychologen\n",
    "<br>\n",
    "<br>\n",
    "\n",
    "##### Textauszug von ELIZA: \n",
    "   * Benutzer: „Ich habe ein Problem mit meinem Vater.“ \n",
    "   * ELIZA: „Erzählen Sie mir mehr über Ihre Familie!“"
   ]
  },
  {
   "cell_type": "code",
   "execution_count": null,
   "metadata": {},
   "outputs": [],
   "source": [
    "https://en.wikipedia.org/wiki/ELIZA"
   ]
  },
  {
   "cell_type": "markdown",
   "metadata": {},
   "source": [
    "# Kleiner Kurs in der Textverarbeitung"
   ]
  },
  {
   "cell_type": "code",
   "execution_count": null,
   "metadata": {},
   "outputs": [],
   "source": [
    "### Der Nutzerinput besteht immer aus einer Zeichenkette (man sagt auch, aus einem \"String\")\n",
    "\n",
    "beispiel_input = \"Hallo. Können sie mir sagen wie das Wetter morgen wird?\"\n",
    "\n",
    "### Strings werden durch Anführungszeichen kenntlich gemacht. In Python sind Strings nicht nur einfache Zeichenketten, sondern\n",
    "### bringen eine Reihe von Funktionen mit, die man benutzen kann, um die Strings zu verarbeiten. Zum Beispiel kann man mit der .split() \n",
    "### Funktion einen String in einzelne Teile zerteilen. Dabei übergibt man der Funktion den Buchstaben bzw. das Zeichen,\n",
    "### welches als Trennzeichen fungieren soll.\n",
    "\n",
    "### Probieren wir es mit unserem Beispielinput aus, in dem wir der split-Funktion das Leerzeichen als\n",
    "### Trennzeichen übergeben und das Ergebnis in der Variable \"wortliste\" speichern:\n",
    "\n",
    "wortliste = beispiel_input.split(\" \")\n",
    "\n",
    "### Geben wir die Wortliste aus...\n",
    "\n",
    "print(wortliste)\n",
    "\n",
    "### so sehen wir, dass wir nun eine Liste mit einzelnen Strings (Zeichenketten) erzeugt haben, in dem der \n",
    "### ursprüngliche String bei jedem vorkommenden Trennzeichen-Geschnitte (und das Trennzeichen entfernt) wurde\n",
    "\n",
    "### Wir können über diese Liste nun iterieren, z.B. mit\n",
    "\n",
    "for wort in wortliste:\n",
    "    print(wort)\n",
    "    \n",
    "### Oder (weil es Python ist, gibt es viele Möglichkeiten zum Ziel zu kommen) so:\n",
    "\n",
    "for i in range(len(wortliste)):\n",
    "    \n",
    "    print(\"Wortnummer: \", end=\"\")\n",
    "    print(i)\n",
    "    print(\"Wort: \", end=\"\")\n",
    "    print(wortliste[i])    \n",
    "    print()\n",
    "    \n",
    "    \n",
    "    \n"
   ]
  },
  {
   "cell_type": "code",
   "execution_count": null,
   "metadata": {},
   "outputs": [],
   "source": [
    "### Um Nutzereingaben zu vereinfachen, kann man bestimmte Zeichen (z.B. Satzzeichen) ersetzen bzw. löschen \n",
    "### (indem man sie durch ein leeres Zeichen, '', ersetzt).\n",
    "\n",
    "beispiel_input_clean = beispiel_input.replace('?','')\n",
    "\n",
    "### Geben wir den \"gesäuberten\" Input aus...\n",
    "\n",
    "print(beispiel_input_clean)\n",
    "    \n",
    "### Sehen sie den Unterschied?"
   ]
  },
  {
   "cell_type": "code",
   "execution_count": null,
   "metadata": {},
   "outputs": [],
   "source": [
    "### Des weiteren können wir alle Buchstaben in einem String in Kleinschreibung (\"lower case\") umwandeln, \n",
    "### was uns später das Vergleichen mit einzelnen Zielwörtern einfacher machen wird.\n",
    "\n",
    "beispiel_input_lower = beispiel_input.lower()\n",
    "\n",
    "### Geben wir den bearbeiteten Input aus...\n",
    "\n",
    "print(beispiel_input_lower)\n",
    "    \n",
    "### Sehen sie den Unterschied?"
   ]
  },
  {
   "cell_type": "code",
   "execution_count": null,
   "metadata": {},
   "outputs": [],
   "source": [
    "### Alle diese Operationen kann man natürlich kombinieren, da die einzelnen Funktionen\n",
    "### immer wieder (Listen von) Zeichenketten ausgeben."
   ]
  },
  {
   "cell_type": "code",
   "execution_count": null,
   "metadata": {},
   "outputs": [],
   "source": [
    "### Wenn wir den Nutzer nach Zahleneingaben fragen und mit diesen Zahlen rechnen wollen, müssen wir diese zuerst \n",
    "### von einer Zeichenkette (z.B. \"65.0\") in eine Zahl umwandeln (z.B. 65 oder 65.0). Das geht mit \n",
    "### str(), float() und int()\n",
    "### float() -> Kommazahl   z.B. 3.6, 2.0\n",
    "### int() -> Ganzzahl      z.B. 3, 2\n",
    "\n",
    "zahl = 5.0\n",
    "\n",
    "zeichenkette = \"65.0\"\n",
    "\n",
    "ergebnis = zahl*zeichenkette\n",
    "\n",
    "\n",
    "print(ergebnis)"
   ]
  },
  {
   "cell_type": "code",
   "execution_count": null,
   "metadata": {},
   "outputs": [],
   "source": [
    "### Die Funktion input() speichert die Tastatureingabe als String\n",
    "\n",
    "eingabe = input(\"Hallo\")\n",
    "\n",
    "### Das Programm wartet solange bis Sie im Textfeld die ENTER-Taste gedrückt haben\n",
    "### Sie können auch das Textfeld leer lassen und ENTER drücken\n",
    "print(eingabe)"
   ]
  },
  {
   "cell_type": "code",
   "execution_count": null,
   "metadata": {},
   "outputs": [],
   "source": [
    "### Ein Dictionary beinhaltet gebundene Daten in folgender Form:  \"Key\" : \"Value\"\n",
    "\n",
    "\n",
    "thisDict = {\n",
    "  \"Größe\": \"1,80 m\",\n",
    "  \"Alter\": \"20 Jahre\",\n",
    "  \"Geburtsdatum\": \"01.01.2001\"\n",
    "}\n",
    "\n",
    "### Der Dictionary thisDict hat drei gebundene Daten: \"Größe\": \"1,80 m\" ,  \"Alter\": \"20 Jahre\" \n",
    "### und noch \"Geburtsdatum\": \"01.01.2001\"\n",
    "\n",
    "print(thisDict)   \n",
    "\n",
    "\n",
    "### Man kann durch die Eingabe eines bestimmten Key den dazugehörigen Value ausgeben lassen\n",
    "\n",
    "print(thisDict[\"Alter\"])\n",
    "\n",
    "\n"
   ]
  },
  {
   "cell_type": "code",
   "execution_count": null,
   "metadata": {},
   "outputs": [],
   "source": [
    "### Mit dem Paket random kann man zufällige Ausgaben einrichten\n",
    "### Die funktion random.choice( Liste ) nimmt einen zufälligen String von der Liste\n",
    "import random\n",
    "\n",
    "a1 = [\"Tag\", \"Monat\", \"Jahr\"]\n",
    "\n",
    "zufall = random.choice(a1)\n",
    "\n",
    "print(zufall)"
   ]
  },
  {
   "cell_type": "markdown",
   "metadata": {},
   "source": [
    "# Ablaufdiagramm vom Chatbot"
   ]
  },
  {
   "cell_type": "markdown",
   "metadata": {},
   "source": [
    "   - Start- und Endzustand\n",
    "   - Blöcke mit Abzweigungen (Raute)\n",
    "\n",
    " "
   ]
  },
  {
   "cell_type": "markdown",
   "metadata": {},
   "source": [
    "Am Anfang wird nur ein Teil des Ablaufdiagramms betrachtet."
   ]
  },
  {
   "cell_type": "markdown",
   "metadata": {},
   "source": [
    "<div>\n",
    "<img src=\"ablauf1.png\", width=\"400\"/>\n",
    "</div>"
   ]
  },
  {
   "cell_type": "code",
   "execution_count": null,
   "metadata": {},
   "outputs": [],
   "source": [
    "# Falls beim Ausführen ihr Code lange braucht -> rechter Mausklick und Restart Kernel drücken\n",
    "\n",
    "\n",
    "#Startzustand\n",
    "\n",
    "#Gruß vom Chatbot\n",
    "print(\"Willkommen beim Chatbot\")\n",
    "print(\"Worüber würden Sie gerne heute sprechen?\")\n",
    "print(\"Zum Beenden einfach 'bye' eintippen\")\n",
    "print(\"\")\n",
    "\n",
    "# Schreiben Sie Ihren Code für die blauen Blöcke.\n",
    "# Hinweis: Betrachten Sie die Rauteblöcke als While-Schleifen und beginnen Sie mit der Raute (Texteingabe != \"bye\")\n",
    "\n",
    "\n",
    "\n",
    "\n",
    "### Lösungsmöglichkeit 1:\n",
    "\n",
    "\n",
    "\n",
    "nutzereingabe = \"\"\n",
    "while nutzereingabe == \"\":\n",
    "    #nutzereingabe = \"\"\n",
    "    while nutzereingabe != \"bye\":\n",
    "        nutzereingabe = input(\"Ihre Frage/Antwort: \")\n",
    "\n",
    "\n",
    "### Lösungsmöglichkeit 2:\n",
    "\n",
    "\n",
    "# bessere Weg für nächste Aufgabe\n",
    "nutzereingabe = \"\"\n",
    "while nutzereingabe != \"bye\":\n",
    "    nutzereingabe = \"\"\n",
    "    while nutzereingabe == \"\":\n",
    "        nutzereingabe = input(\"Ihre Frage/Antwort: \")\n",
    "        \n",
    "\n",
    "\n",
    "        \n",
    "\n",
    "\n",
    "\n",
    "# Endzustand\n",
    "print(\"Einen schönen Tag wünsche ich Dir. Bis zum nächsten Mal\")\n",
    "\n",
    "\n",
    "\n"
   ]
  },
  {
   "cell_type": "markdown",
   "metadata": {},
   "source": [
    "#### Aufgabe 2"
   ]
  },
  {
   "cell_type": "markdown",
   "metadata": {},
   "source": [
    "<div>\n",
    "<img src=\"ablauf2.png\", width=\"800\"/>\n",
    "</div>"
   ]
  },
  {
   "cell_type": "markdown",
   "metadata": {},
   "source": [
    "In dieser Aufgabe werden die entsprechenden Textausgaben für Eingaben vom Nutzer eingestellt.\n",
    "Dabei unterscheidet man zwischen zwei Arten von Textausgaben:\n",
    "   - passende Textausgabe: falls das Einzelwort ein Key vom Dictionary ist, soll der Chatbot den dazugehörigen Value vom Key ausgeben\n",
    "   - zufällige Textausgabe: falls das Einzelwort kein Key vom Dictionary ist, soll der Chatbot irgendwas zufälliges sagen\n",
    "\n",
    "    "
   ]
  },
  {
   "cell_type": "raw",
   "metadata": {},
   "source": [
    "Beispiel:\n",
    "\n",
    "reaktionsantworten = { \"größe\": \"1,80 m\", \"alter\": \"20 Jahre\", \"geburtsdatum\": \"01.01.2001\"}\n",
    "zufallsantworten = [\"Oh, wirklich\", \"Interessant...\", \"Können Sie genauers dazu sagen?\"]\n",
    "                   \n",
    "Chatbot: Hallo, wie kann ich Ihnen helfen\n",
    "Nutzer: Hallo\n",
    "Chatbot: Interessant...\n",
    "Nutzer: Was ist dein alter?!?\n",
    "Chatbot: 20 Jahre\n",
    "Nutzer: Vielen Dank\n",
    "Chatbot: Können Sie genauers dazu sagen?\n",
    "Nutzer: bye\n",
    "Chatbot: Einen schönen Tag wünsche ich Dir. Bis zum nächsten Mal\n"
   ]
  },
  {
   "cell_type": "code",
   "execution_count": null,
   "metadata": {},
   "outputs": [],
   "source": [
    "## Schreiben Sie den Code für die zweite Häflte vom Ablaufdiagramm\n",
    "## Sie können einen individuellen Chatbot erstellen, z.B. für eine Produktbestellung (Impfdosen), BMI-Rechner oder ein Smalltalk.\n"
   ]
  },
  {
   "cell_type": "code",
   "execution_count": null,
   "metadata": {},
   "outputs": [],
   "source": [
    "# Paket random wird importiert\n",
    "# nötig für zufällige Zahlen bzw. zufällige Textausgabe\n",
    "import random\n",
    "\n",
    "# die Strings können Sie auch ändern\n",
    "zufallsantworten=[\"Oh, wirklich\", \"Interessant ...\", \"Das kann man so sehen\", \"Ich verstehe ...\"]\n",
    "\n",
    "# reaktionsantworten sind die passende Antworten bzw. das Dictionary\n",
    "reaktionsantworten = {\"hallo\": \"aber Hallo\", \n",
    "                      \"geht\": \"Was verstehst du darunter?\", \n",
    "                      \"essen\": \"Ich habe leider keinen Geschmackssinn :(\"}\n",
    "\n",
    "\n",
    "\n",
    "\n",
    "#Gruß vom Chatbot\n",
    "print(\"Willkommen beim Chatbot\")\n",
    "print(\"Worüber würden Sie gerne heute sprechen?\")\n",
    "print(\"Zum Beenden einfach 'bye' eintippen\")\n",
    "print(\"\")\n",
    "\n",
    "\n",
    "\n",
    "\n",
    "### Fügen Sie hier Ihren Code von den letzten Aufgabe ein\n",
    "\n",
    "\n",
    "\n",
    "\n",
    "\n",
    "\n",
    "\n",
    "\n",
    "### Schreiben Sie hier Ihren Code.\n",
    "### Hinweis: Nutzen Sie die Funktionen von der Einführung\n",
    " \n",
    "\n",
    "\n",
    "\n",
    "\n",
    "\n",
    "\n",
    "# Endzustand\n",
    "print(\"Einen schönen Tag wünsche ich Dir. Bis zum nächsten Mal\")"
   ]
  },
  {
   "cell_type": "code",
   "execution_count": 1,
   "metadata": {},
   "outputs": [],
   "source": [
    "# Paket random wird importiert\n",
    "# nötig für zufällige Zahlen bzw. zufällige Textausgabe\n",
    "import random\n",
    "\n",
    "#Führen Sie diese Zelle einmal aus und arbeiten Sie dann in der nächsten Zelle weiter"
   ]
  },
  {
   "cell_type": "code",
   "execution_count": null,
   "metadata": {
    "collapsed": true
   },
   "outputs": [
    {
     "name": "stdout",
     "output_type": "stream",
     "text": [
      "Willkommen beim Chatbot\n",
      "Worüber würden Sie gerne heute sprechen?\n",
      "Zum beenden einfach 'bye' eintippen\n",
      "\n",
      "Ihre Frage/Antwort: asd\n",
      "Ich verstehe ...\n",
      "\n",
      "Ihre Frage/Antwort: asd\n",
      "Das kann man so sehen\n",
      "\n",
      "Ihre Frage/Antwort: a\n",
      "Ich verstehe ...\n",
      "\n",
      "Ihre Frage/Antwort: -\n",
      "Das kann man so sehen\n",
      "\n",
      "Ihre Frage/Antwort: 123\n",
      "Interessant ...\n",
      "\n",
      "Ihre Frage/Antwort: &\n",
      "Interessant ...\n",
      "\n"
     ]
    }
   ],
   "source": [
    "# Lösung 1. Smalltalk\n",
    "\n",
    "\n",
    "zufallsantworten=[\"Oh, wirklich\", \"Interessant ...\", \"Das kann man so sehen\", \"Ich verstehe ...\"]\n",
    "\n",
    "reaktionsantworten = {\"hallo\": \"aber Hallo\", \n",
    "\t\t\t\t\t  \"geht\": \"Was verstehst du darunter?\", \n",
    "\t\t\t\t\t  \"essen\": \"Ich habe leider keinen Geschmackssinn :(\"\n",
    "\t\t\t\t\t  }\n",
    "                      \n",
    "print(\"Willkommen beim Chatbot\")\n",
    "print(\"Worüber würden Sie gerne heute sprechen?\")\n",
    "print(\"Zum beenden einfach 'bye' eintippen\")\n",
    "print(\"\")\n",
    "\n",
    "nutzereingabe = \"\"\n",
    "while nutzereingabe != \"bye\":\n",
    "    nutzereingabe = \"\"\n",
    "    while nutzereingabe == \"\":\n",
    "        nutzereingabe = input(\"Ihre Frage/Antwort: \")\n",
    "        \n",
    "    nutzereingabe = nutzereingabe.lower()\n",
    "    # Entferne Satzzeichen, in dem mensch sie durch einen leeren String ('') ersetzt\n",
    "    nutzereingabe = nutzereingabe.replace('.','')\n",
    "    nutzereingabe = nutzereingabe.replace(',','')\n",
    "    nutzereingabe = nutzereingabe.replace('!','')\n",
    "    nutzereingabe = nutzereingabe.replace(':','')\n",
    "    nutzereingabe = nutzereingabe.replace('?','')\n",
    "    nutzereingabe = nutzereingabe.replace(';','')\n",
    "    \n",
    "    \n",
    "    nutzerwoerter = nutzereingabe.split()\n",
    "    \n",
    "    \n",
    "    \n",
    "    intelligenteAntworten = False\n",
    "    for einzelwoerter in nutzerwoerter:\n",
    "        if einzelwoerter in reaktionsantworten:\n",
    "            print(reaktionsantworten[einzelwoerter])\n",
    "            intelligenteAntworten = True\n",
    "            \n",
    "    if intelligenteAntworten == False:\n",
    "        print(random.choice(zufallsantworten))\n",
    "        \n",
    "    print(\"\")\n",
    "\n",
    "print(\"Einen schönen Tag wünsche ich Dir. Bis zum nächsten Mal\")"
   ]
  },
  {
   "cell_type": "code",
   "execution_count": 3,
   "metadata": {},
   "outputs": [
    {
     "name": "stdout",
     "output_type": "stream",
     "text": [
      "Willkommen beim Chatbot\n",
      "Sie können hier Ihren BMI ausrechnen\n",
      "Zum beenden einfach 'bye' eintippen\n",
      "\n",
      "Ihre Frage/Antwort: hallo danke\n",
      "Hallo, sollen wir mit deiner BMI-Rechnung starten?\n",
      "Nichts zu danken :D\n",
      "\n",
      "Ihre Frage/Antwort: danke hallo\n",
      "Nichts zu danken :D\n",
      "Hallo, sollen wir mit deiner BMI-Rechnung starten?\n",
      "\n",
      "Ihre Frage/Antwort: ja\n",
      "Ok, lass uns mit dem Rechner starten\n",
      "Wie lautet deine Körpergröße (in m und Kommazahl mit '.' ) ?\n",
      "2.0\n",
      "Wie viel wiegst du (in kg)\n",
      "100\n",
      "Dein BMI ist: 25.0\n",
      "\n",
      "Ihre Frage/Antwort: danke\n",
      "Nichts zu danken :D\n",
      "\n",
      "Ihre Frage/Antwort: basd\n",
      "Ich verstehe ...\n",
      "\n",
      "Ihre Frage/Antwort: as\n",
      "Das kann man so sehen\n",
      "\n",
      "Ihre Frage/Antwort: bye\n",
      "Das kann man so sehen\n",
      "\n",
      "Einen schönen Tag wünsche ich Dir. Bis zum nächsten Mal\n"
     ]
    }
   ],
   "source": [
    "# BMI-Rechner\n",
    "\n",
    "\n",
    "zufallsantworten=[\"Oh, wirklich\", \"Interessant ...\", \"Das kann man so sehen\", \"Ich verstehe ...\"]\n",
    "reaktionsantworten = {\"hallo\" : \"Hallo, sollen wir mit deiner BMI-Rechnung starten?\" ,\n",
    "                      \"noch nicht\" : \"Ok, ich warte ^^ Wenn du bereit bist, antworte mit 'ja' \",\n",
    "                      \"ja\" : \"Ok, lass uns mit dem Rechner starten\", \n",
    "                      \"start\" : \"Lass uns starten ^^\",\n",
    "                      \"danke\" : \"Nichts zu danken :D\",\n",
    "                    }\n",
    "                      \n",
    "print(\"Willkommen beim Chatbot\")\n",
    "print(\"Sie können hier Ihren BMI ausrechnen\")\n",
    "print(\"Zum beenden einfach 'bye' eintippen\")\n",
    "print(\"\")\n",
    "\n",
    "nutzereingabe = \"\"\n",
    "while nutzereingabe != \"bye\":\n",
    "    nutzereingabe = \"\"\n",
    "    while nutzereingabe == \"\":\n",
    "        nutzereingabe = input(\"Ihre Frage/Antwort: \")\n",
    "        \n",
    "    nutzereingabe = nutzereingabe.lower()\n",
    "    # Entferne Satzzeichen, in dem mensch sie durch einen leeren String ('') ersetzt\n",
    "    nutzereingabe = nutzereingabe.replace('.','')\n",
    "    nutzereingabe = nutzereingabe.replace(',','')\n",
    "    nutzereingabe = nutzereingabe.replace('!','')\n",
    "    nutzereingabe = nutzereingabe.replace(':','')\n",
    "    nutzereingabe = nutzereingabe.replace('?','')\n",
    "    nutzereingabe = nutzereingabe.replace(';','')\n",
    "    \n",
    "    \n",
    "    nutzerwoerter = nutzereingabe.split()\n",
    "    \n",
    "    \n",
    "    \n",
    "    intelligenteAntworten = False\n",
    "    for einzelwoerter in nutzerwoerter:\n",
    "        if einzelwoerter in reaktionsantworten:\n",
    "            if einzelwoerter == \"ja\" or str(einzelwoerter) == \"start\":\n",
    "                print(reaktionsantworten[einzelwoerter])\n",
    "                print(\"Wie lautet deine Körpergröße (in m und Kommazahl mit '.' ) ?\")\n",
    "                groeße = input()\n",
    "                print(\"Wie viel wiegst du (in kg)\")\n",
    "                gewicht = input()\n",
    "                \n",
    "                a = float(groeße)\n",
    "                b = float(gewicht)\n",
    "                bmiErgebnis= b//(a*a)\n",
    "                \n",
    "                print(\"Dein BMI ist: \" + str(bmiErgebnis) )\n",
    "                intelligenteAntworten = True\n",
    "            else:\n",
    "                print(reaktionsantworten[einzelwoerter])\n",
    "                intelligenteAntworten = True\n",
    "\n",
    "            #print(reaktionsantworten[einzelwoerter])\n",
    "            #intelligenteAntworten = True\n",
    "            \n",
    "    if intelligenteAntworten == False:\n",
    "        print(random.choice(zufallsantworten))\n",
    "        \n",
    "    print(\"\")\n",
    "\n",
    "print(\"Einen schönen Tag wünsche ich Dir. Bis zum nächsten Mal\")\n",
    "\n",
    "\n",
    "\n",
    "### Bonusfrage-Antwort: 1. bei zwei Texteingaben als Key -> zwei Textausgaben vom Chatbot\n",
    "###                   2. Fehlerausgabe -> bei Eingabe von String bei Gewicht und Größe\n"
   ]
  },
  {
   "cell_type": "code",
   "execution_count": null,
   "metadata": {},
   "outputs": [],
   "source": []
  }
 ],
 "metadata": {
  "kernelspec": {
   "display_name": "Python 3",
   "language": "python",
   "name": "python3"
  },
  "language_info": {
   "codemirror_mode": {
    "name": "ipython",
    "version": 3
   },
   "file_extension": ".py",
   "mimetype": "text/x-python",
   "name": "python",
   "nbconvert_exporter": "python",
   "pygments_lexer": "ipython3",
   "version": "3.8.5"
  }
 },
 "nbformat": 4,
 "nbformat_minor": 5
}
