{
 "cells": [
  {
   "cell_type": "markdown",
   "metadata": {},
   "source": [
    "# Einführung \n",
    "\n",
    "In diesem Notebook werden sie einen einfachen, regel-basierten Chatbot erstellen (noch ohne Deep-Learning, RNNs, ...). Chatbot ist ein Kunstwort aus Chatten (\"Chat\") und Robot (\"Bot\") und beschreibt ein textbasiertes Echtzeit-Dialogsystem, das auf geschriebene Nutzerinputs reagiert, in dem es passende Textantworten liefert. Anwendungen sind z.B. im Onlinehandel für Automatisierung von Bestellanfragen der Kunden oder zur automatischen Beantwortung häufig gestellter Fragen (FAQs, \"frequently asked questions\") in natürlicher Sprache.    "
   ]
  },
  {
   "cell_type": "markdown",
   "metadata": {},
   "source": [
    "# ELIZA - Einfache Regeln, großer Effekt\n",
    "\n",
    "1966 demonstrierte Joseph Weizenbaum, wie ein Chatbot mit einem erstaunlich simplen Algorithmus doch vieler seiner Nutzer verblüffen konnte. Er nannte seinen Chatbot ELIZA. Sie können ELIZA hier ausprobieren: https://web.njit.edu/~ronkowit/eliza.html. Falls es sie interessiert, gibt es mehr Details in diesem Artikel: https://blog.ubisend.com/discover-chatbots/chatbot-eliza. "
   ]
  },
  {
   "cell_type": "markdown",
   "metadata": {},
   "source": [
    "# Kleiner Kurs in der Textverarbeitung"
   ]
  },
  {
   "cell_type": "markdown",
   "metadata": {},
   "source": [
    "In den folgenden Codezellen, können sie sich mit dem Umgang mit Zeichenketten vertraut machen."
   ]
  },
  {
   "cell_type": "code",
   "execution_count": null,
   "metadata": {},
   "outputs": [],
   "source": [
    "### Der Nutzerinput besteht immer aus einer Zeichenkette (man sagt auch, aus einem \"String\")\n",
    "\n",
    "beispiel_input = \"Hallo. Können sie mir sagen wie das Wetter morgen wird?\""
   ]
  },
  {
   "cell_type": "code",
   "execution_count": null,
   "metadata": {},
   "outputs": [],
   "source": [
    "### Strings werden durch Anführungszeichen kenntlich gemacht. \n",
    "### In Python sind Strings nicht nur einfache Zeichenketten, sondern\n",
    "### bringen eine Reihe von Funktionen mit, die man benutzen kann, um die \n",
    "### Strings zu verarbeiten. Zum Beispiel kann man mit der .split() \n",
    "### Funktion einen String in einzelne Teile zerteilen. Dabei übergibt \n",
    "### man der Funktion den Buchstaben bzw. das Zeichen,\n",
    "### welches als Trennzeichen fungieren soll.\n",
    "\n",
    "### Probieren wir es mit unserem Beispielinput aus, in dem wir der split-Funktion das Leerzeichen als\n",
    "### Trennzeichen übergeben und das Ergebnis in der Variable \"wortliste\" speichern:\n",
    "\n",
    "wortliste = beispiel_input.split(\" \")"
   ]
  },
  {
   "cell_type": "code",
   "execution_count": null,
   "metadata": {},
   "outputs": [],
   "source": [
    "### Geben wir die Wortliste aus...\n",
    "\n",
    "print(wortliste)"
   ]
  },
  {
   "cell_type": "code",
   "execution_count": null,
   "metadata": {
    "scrolled": true
   },
   "outputs": [],
   "source": [
    "### Wir sehen, dass wir nun eine Liste mit einzelnen \n",
    "### Strings (Zeichenketten) erzeugt haben, in dem der \n",
    "### ursprüngliche String bei jedem vorkommenden \n",
    "### Trennzeichen geschnitten (und das Trennzeichen entfernt) wurde\n",
    "\n",
    "### Wir können über diese Liste nun iterieren, z.B. mit\n",
    "\n",
    "for wort in wortliste:\n",
    "    print(wort)\n",
    "    \n",
    "### Oder (weil es Python ist, gibt es viele Möglichkeiten zum Ziel zu kommen) so:\n",
    "\n",
    "for i in range(len(wortliste)):\n",
    "    \n",
    "    print(\"Wortnummer: \", end=\"\")\n",
    "    print(i)\n",
    "    print(\"Wort: \", end=\"\")\n",
    "    print(wortliste[i])    \n",
    "    print()\n",
    "    \n",
    "    \n",
    "    "
   ]
  },
  {
   "cell_type": "code",
   "execution_count": null,
   "metadata": {},
   "outputs": [],
   "source": [
    "### Um Nutzereingaben zu vereinfachen, kann man \n",
    "### bestimmte Zeichen (z.B. Satzzeichen) ersetzen bzw. löschen \n",
    "### (indem man sie durch ein leeres Zeichen, '', ersetzt).\n",
    "\n",
    "beispiel_input_clean = beispiel_input.replace('?','')\n",
    "\n",
    "### Geben wir den \"gesäuberten\" Input aus...\n",
    "\n",
    "print(beispiel_input_clean)\n",
    "    \n",
    "### Sehen sie den Unterschied?"
   ]
  },
  {
   "cell_type": "code",
   "execution_count": null,
   "metadata": {},
   "outputs": [],
   "source": [
    "### Des weiteren können wir alle Buchstaben in einem String in Kleinschreibung (\"lower case\") umwandeln, \n",
    "### was uns später das Vergleichen mit einzelnen Zielwörtern einfacher machen wird.\n",
    "\n",
    "beispiel_input_lower = beispiel_input.lower()\n",
    "\n",
    "### Geben wir den bearbeiteten Input aus...\n",
    "\n",
    "print(beispiel_input_lower)\n",
    "    \n",
    "### Sehen sie den Unterschied?"
   ]
  },
  {
   "cell_type": "code",
   "execution_count": null,
   "metadata": {},
   "outputs": [],
   "source": [
    "### Alle diese Operationen kann man natürlich kombinieren, da die einzelnen Funktionen\n",
    "### immer wieder (Listen von) Zeichenketten ausgeben."
   ]
  },
  {
   "cell_type": "code",
   "execution_count": null,
   "metadata": {},
   "outputs": [],
   "source": [
    "### Wenn wir den Nutzer nach Zahleneingaben fragen und mit diesen Zahlen rechnen wollen, müssen wir diese zuerst \n",
    "### von einer Zeichenkette (z.B. \"65.0\") in eine Zahl umwandeln (z.B. 65 oder 65.0). Das geht mit \n",
    "### str(), float() und int()\n",
    "### float() -> Kommazahl   z.B. 3.6, 2.0\n",
    "### int() -> Ganzzahl      z.B. 3, 2\n",
    "\n",
    "zahl = 5.0\n",
    "\n",
    "zeichenkette = \"65.0\"\n",
    "\n",
    "\n",
    "### Diese Operation wird einen Fehler auswerfen\n",
    "### Da die Zahl 5.0 nicht einfach mit der\n",
    "### Zeichenkette 65 verrechnet werden kann.\n",
    "### Beheben sie den Fehler.\n",
    "ergebnis = zahl*zeichenkette\n",
    "\n",
    "\n",
    "print(ergebnis)"
   ]
  },
  {
   "cell_type": "code",
   "execution_count": null,
   "metadata": {},
   "outputs": [],
   "source": [
    "### Die Funktion input() speichert die Tastatureingabe als String\n",
    "\n",
    "eingabe = input(\"Hallo\")\n",
    "\n",
    "### Das Programm wartet solange bis Sie im Textfeld die ENTER-Taste gedrückt haben\n",
    "### Sie können auch das Textfeld leer lassen und ENTER drücken\n",
    "print(eingabe)"
   ]
  },
  {
   "cell_type": "markdown",
   "metadata": {},
   "source": [
    "Eine Datenstruktur, die eventuell nützlich sein könnte, um Inputs oder Stichworten entsprechende Antworten zuzuordnen ist das \"Dictionary\". Es wird durch eine Geschweifte Klammer kenntlich gemacht und beinhaltet eine von Kommata getrennte Aufzählung von Schlüssel : Wert paaren."
   ]
  },
  {
   "cell_type": "code",
   "execution_count": null,
   "metadata": {},
   "outputs": [],
   "source": [
    "### Ein Dictionary beinhaltet gebundene Daten in folgender Form:  \"Key\" : \"Value\"\n",
    "\n",
    "thisDict = {\n",
    "  \"Größe\": \"1,80 m\",\n",
    "  \"Alter\": \"20 Jahre\",\n",
    "  \"Geburtsdatum\": \"01.01.2001\"\n",
    "}\n",
    "\n",
    "### Der Dictionary thisDict hat drei gebundene Daten: \"Größe\": \"1,80 m\" ,  \"Alter\": \"20 Jahre\" \n",
    "### und noch \"Geburtsdatum\": \"01.01.2001\"\n",
    "\n",
    "print(thisDict)   "
   ]
  },
  {
   "cell_type": "code",
   "execution_count": null,
   "metadata": {},
   "outputs": [],
   "source": [
    "### Man kann durch die Eingabe eines bestimmten Key den dazugehörigen Value ausgeben lassen\n",
    "\n",
    "print(thisDict[\"Alter\"])"
   ]
  },
  {
   "cell_type": "code",
   "execution_count": null,
   "metadata": {},
   "outputs": [],
   "source": [
    "### Mit dem Paket random kann man zufällige Ausgaben generieren.\n",
    "\n",
    "### Die funktion random.choice( ... ) wählt \n",
    "### ein zufälliges Element aus einer Inputliste aus und\n",
    "### gibt dieses zurück.\n",
    "import random\n",
    "\n",
    "beispiel_liste = [\"Tag\", \"Monat\", \"Jahr\"]\n",
    "\n",
    "zufallsauswahl = random.choice(beispiel_liste)\n",
    "\n",
    "print(zufallsauswahl)"
   ]
  },
  {
   "cell_type": "markdown",
   "metadata": {},
   "source": [
    "Führen sie die obige (Zufalls-)Zelle noch einige Male aus und sehen sie, was mit dem Output passiert."
   ]
  },
  {
   "cell_type": "markdown",
   "metadata": {},
   "source": [
    "# Aufgabe 1 - Der einfachste aller Chatbots"
   ]
  },
  {
   "cell_type": "markdown",
   "metadata": {},
   "source": [
    "Im Folgenden sehen sie den Algorithmus unserer ersten Chatbot-Version. Diese kann noch nicht sehr viel.\n",
    "Sie begrüßt den Nutzer und wartet dann auf eine Nutzereingabe (z.B. mit der input()-Funktion). Sobald diese etwas Text enthält, wird der Text mit der Zeichenkette \"bye\" verglichen (z.B. mit ==). Sollte es sich um einen anderen Text handeln, wird ein neuer Benutzerinput abgefragt. Falls der User \"bye\" eingegeben hat verabschiedet sich der Chatbot und es wird kein neuer Input eingelesen."
   ]
  },
  {
   "cell_type": "markdown",
   "metadata": {},
   "source": [
    "<div>\n",
    "<img src=\"ablauf1.png\", width=\"400\"/>\n",
    "</div>\n",
    "Schreiben sie in der folgenden Zelle Code, der diese Logik implementiert."
   ]
  },
  {
   "cell_type": "code",
   "execution_count": null,
   "metadata": {},
   "outputs": [],
   "source": [
    "# Falls beim Ausführen ihr Code lange braucht -> rechter Mausklick und Restart Kernel drücken\n",
    "\n",
    "\n",
    "#Startzustand\n",
    "\n",
    "# Begrüßung\n",
    "print(\"Willkommen beim Chatbot\")\n",
    "print(\"Worüber würden Sie gerne heute sprechen?\")\n",
    "print(\"Zum Beenden einfach 'bye' eintippen\")\n",
    "print(\"\")\n",
    "\n",
    "\n",
    "# Aufgabe 1:\n",
    "# Schreiben Sie hier Ihren Code für die blauen Blöcke.\n",
    "# Hinweis: Betrachten Sie die Rauteblöcke als While-Schleifen und beginnen Sie mit der Raute (Texteingabe != \"bye\")\n",
    "\n",
    "\n",
    "\n",
    "\n",
    "\n",
    "\n",
    "\n",
    "\n",
    "\n",
    "# Verabschiedung\n",
    "print(\"Einen schönen Tag wünsche ich Dir. Bis zum nächsten Mal\")\n",
    "\n",
    "\n",
    "\n"
   ]
  },
  {
   "cell_type": "markdown",
   "metadata": {},
   "source": [
    "#### Aufgabe 2"
   ]
  },
  {
   "cell_type": "markdown",
   "metadata": {},
   "source": [
    "<div>\n",
    "<img src=\"ablauf2.png\", width=\"800\"/>\n",
    "</div>"
   ]
  },
  {
   "cell_type": "markdown",
   "metadata": {},
   "source": [
    "In dieser Aufgabe werden die Antworten (Textausgaben) vom Chatbot erstellt.\n",
    "Dabei unterscheidet man zwischen zwei Arten von Textausgaben:\n",
    "   - passende Textausgabe: falls das Einzelwort ein Key (Schlüssel) vom Dictionary ist, soll der Chatbot den dazugehörigen Value vom Key ausgeben\n",
    "   <br>\n",
    "   - zufällige Textausgabe: falls das Einzelwort kein Key (Schlüssel) vom Dictionary ist, soll der Chatbot einen zufälligen Text ausgeben\n",
    "\n",
    "    "
   ]
  },
  {
   "cell_type": "markdown",
   "metadata": {},
   "source": [
    "Beispiel:\n",
    "\n",
    "```python\n",
    "reaktionsantworten = { \"größe\": \"1,80 m\", \"alter\": \"20 Jahre\", \"geburtsdatum\": \"01.01.2001\"}\n",
    "zufallsantworten = [\"Oh, wirklich\", \"Interessant...\", \"Können Sie genauers dazu sagen?\"]\n",
    "```\n",
    "\n",
    "\n",
    "# Gewünschte Ausgabe:\n",
    "\n",
    "Chatbot: Hallo, wie kann ich Ihnen helfen?\n",
    "\n",
    "Nutzer: Hallo\n",
    "\n",
    "Chatbot: Interessant...\n",
    "\n",
    "Nutzer: Was ist dein alter?!?\n",
    "\n",
    "Chatbot: 20 Jahre\n",
    "\n",
    "Nutzer: Vielen Dank\n",
    "\n",
    "Chatbot: Können Sie genauers dazu sagen?\n",
    "\n",
    "Nutzer: bye\n",
    "\n",
    "Chatbot: Einen schönen Tag wünsche ich Dir. Bis zum nächsten Mal\n"
   ]
  },
  {
   "cell_type": "markdown",
   "metadata": {},
   "source": [
    "Füllen sie das Codegerüst in der folgenden Zelle aus, um die oben beschriebene Logik zu implementieren. Sie können die Aufgabe auch gerne abwandeln, bzw. sich überlegen, welche regelbasierte Funktionalität sie ihrem Chatbot gerne einprogrammieren möchten."
   ]
  },
  {
   "cell_type": "code",
   "execution_count": null,
   "metadata": {},
   "outputs": [],
   "source": [
    "\n",
    "\n",
    "#Führen Sie diese Zelle einmal aus und arbeiten Sie dann in der nächsten Zelle weiter"
   ]
  },
  {
   "cell_type": "code",
   "execution_count": null,
   "metadata": {},
   "outputs": [],
   "source": [
    "# Paket random wird importiert (Zufallsgenerator, s.o.)\n",
    "import random\n",
    "\n",
    "# die Strings bei 'zufallsantworten' und 'reaktionsantworten' können Sie ändern\n",
    "zufallsantworten=[\"Oh, wirklich\", \"Interessant ...\", \"Das kann man so sehen\", \"Ich verstehe ...\"]\n",
    "\n",
    "# reaktionsantworten sind die passende Antworten bzw. ein Dictionary \n",
    "reaktionsantworten = {\"hallo\": \"aber Hallo\", \n",
    "                      \"geht\": \"Was verstehst du darunter?\", \n",
    "                      \"essen\": \"Ich habe leider keinen Geschmackssinn :(\"}\n",
    "\n",
    "\n",
    "\n",
    "\n",
    "#Gruß vom Chatbot\n",
    "print(\"Willkommen beim Chatbot\")\n",
    "print(\"Worüber würden Sie gerne heute sprechen?\")\n",
    "print(\"Zum Beenden einfach 'bye' eintippen\")\n",
    "print(\"\")\n",
    "\n",
    "\n",
    "\n",
    "\n",
    "### Fügen Sie hier Ihren Code von den letzten Aufgabe ein\n",
    "\n",
    "\n",
    "\n",
    "\n",
    "\n",
    "\n",
    "\n",
    "\n",
    "### Schreiben Sie hier Ihren Code.\n",
    "### Hinweis: Betrachten Sie den neuen Rauteblock als eine IF-Else-Bedingung\n",
    " \n",
    "\n",
    "\n",
    "\n",
    "    \n",
    "    \n",
    "\n",
    "\n",
    "\n",
    "\n",
    "print(\"Einen schönen Tag wünsche ich Dir. Bis zum nächsten Mal\")\n",
    "\n",
    "\n",
    "# Bonusfragen: Was passiert, wenn man zwei Keys (Einzelwörter) in einer Texteingabe hat\n",
    "#              Schreiben Sie alle Fälle auf, wann Ihr Code einen Fehler anzeigt bei der Texteingabe\n"
   ]
  },
  {
   "cell_type": "markdown",
   "metadata": {},
   "source": [
    "<details><summary>**Klicken sie hier für eine mögliche Lösung**</summary>\n",
    "<p>\n",
    "    \n",
    "Lösung 1. Smalltalk\n",
    "    \n",
    "```python    \n",
    "\n",
    "import random\n",
    "\n",
    "zufallsantworten=[\"Oh, wirklich\", \"Interessant ...\", \"Das kann man so sehen\", \"Ich verstehe ...\"]\n",
    "\n",
    "reaktionsantworten = {\"hallo\": \"aber Hallo\", \n",
    "\t\t\t\t\t  \"geht\": \"Was verstehst du darunter?\", \n",
    "\t\t\t\t\t  \"essen\": \"Ich habe leider keinen Geschmackssinn :(\"\n",
    "\t\t\t\t\t  }\n",
    "                      \n",
    "print(\"Willkommen beim Chatbot\")\n",
    "print(\"Worüber würden Sie gerne heute sprechen?\")\n",
    "print(\"Zum beenden einfach 'bye' eintippen\")\n",
    "print(\"\")\n",
    "\n",
    "nutzereingabe = \"\"\n",
    "while nutzereingabe != \"bye\":\n",
    "    nutzereingabe = \"\"\n",
    "    while nutzereingabe == \"\":\n",
    "        nutzereingabe = input(\"Ihre Frage/Antwort: \")\n",
    "        \n",
    "    nutzereingabe = nutzereingabe.lower()\n",
    "    # Entferne Satzzeichen, in dem mensch sie durch einen leeren String ('') ersetzt\n",
    "    nutzereingabe = nutzereingabe.replace('.','')\n",
    "    nutzereingabe = nutzereingabe.replace(',','')\n",
    "    nutzereingabe = nutzereingabe.replace('!','')\n",
    "    nutzereingabe = nutzereingabe.replace(':','')\n",
    "    nutzereingabe = nutzereingabe.replace('?','')\n",
    "    nutzereingabe = nutzereingabe.replace(';','')\n",
    "    \n",
    "    \n",
    "    nutzerwoerter = nutzereingabe.split()\n",
    "    \n",
    "    \n",
    "    \n",
    "    intelligenteAntworten = False\n",
    "    for einzelwoerter in nutzerwoerter:\n",
    "        if einzelwoerter in reaktionsantworten:\n",
    "            print(reaktionsantworten[einzelwoerter])\n",
    "            intelligenteAntworten = True\n",
    "            \n",
    "    if intelligenteAntworten == False:\n",
    "        print(random.choice(zufallsantworten))\n",
    "        \n",
    "    print(\"\")\n",
    "\n",
    "print(\"Einen schönen Tag wünsche ich Dir. Bis zum nächsten Mal\")\n",
    "```"
   ]
  },
  {
   "cell_type": "markdown",
   "metadata": {},
   "source": [
    "<details><summary>**Klicken sie hier für eine zweite mögliche Lösung**</summary>\n",
    "<p>\n",
    "    \n",
    "Lösung 2. BMI-Rechner\n",
    "    \n",
    "```python   \n",
    "\n",
    "import random\n",
    "    \n",
    "zufallsantworten=[\"Oh, wirklich\", \"Interessant ...\", \"Das kann man so sehen\", \"Ich verstehe ...\"]\n",
    "reaktionsantworten = {\"hallo\" : \"Hallo, sollen wir mit deiner BMI-Rechnung starten?\" ,\n",
    "                      \"noch nicht\" : \"Ok, ich warte ^^ Wenn du bereit bist, antworte mit 'ja' \",\n",
    "                      \"ja\" : \"Ok, lass uns mit dem Rechner starten\", \n",
    "                      \"start\" : \"Lass uns starten ^^\",\n",
    "                      \"danke\" : \"Nichts zu danken :D\",\n",
    "                    }\n",
    "                      \n",
    "print(\"Willkommen beim Chatbot\")\n",
    "print(\"Sie können hier Ihren BMI ausrechnen\")\n",
    "print(\"Zum beenden einfach 'bye' eintippen\")\n",
    "print(\"\")\n",
    "\n",
    "nutzereingabe = \"\"\n",
    "while nutzereingabe != \"bye\":\n",
    "    nutzereingabe = \"\"\n",
    "    while nutzereingabe == \"\":\n",
    "        nutzereingabe = input(\"Ihre Frage/Antwort: \")\n",
    "        \n",
    "    nutzereingabe = nutzereingabe.lower()\n",
    "    # Entferne Satzzeichen, in dem mensch sie durch einen leeren String ('') ersetzt\n",
    "    nutzereingabe = nutzereingabe.replace('.','')\n",
    "    nutzereingabe = nutzereingabe.replace(',','')\n",
    "    nutzereingabe = nutzereingabe.replace('!','')\n",
    "    nutzereingabe = nutzereingabe.replace(':','')\n",
    "    nutzereingabe = nutzereingabe.replace('?','')\n",
    "    nutzereingabe = nutzereingabe.replace(';','')\n",
    "    \n",
    "    \n",
    "    nutzerwoerter = nutzereingabe.split()\n",
    "    \n",
    "    \n",
    "    \n",
    "    intelligenteAntworten = False\n",
    "    for einzelwoerter in nutzerwoerter:\n",
    "        if einzelwoerter in reaktionsantworten:\n",
    "            if einzelwoerter == \"ja\" or str(einzelwoerter) == \"start\":\n",
    "                print(reaktionsantworten[einzelwoerter])\n",
    "                print(\"Wie lautet deine Körpergröße (in m und Kommazahl mit '.' ) ?\")\n",
    "                groeße = input()\n",
    "                print(\"Wie viel wiegst du (in kg)\")\n",
    "                gewicht = input()\n",
    "                \n",
    "                a = float(groeße)\n",
    "                b = float(gewicht)\n",
    "                bmiErgebnis= b//(a*a)\n",
    "                \n",
    "                print(\"Dein BMI ist: \" + str(bmiErgebnis) )\n",
    "                intelligenteAntworten = True\n",
    "            else:\n",
    "                print(reaktionsantworten[einzelwoerter])\n",
    "                intelligenteAntworten = True\n",
    "\n",
    "            #print(reaktionsantworten[einzelwoerter])\n",
    "            #intelligenteAntworten = True\n",
    "            \n",
    "    if intelligenteAntworten == False:\n",
    "        print(random.choice(zufallsantworten))\n",
    "        \n",
    "    print(\"\")\n",
    "\n",
    "print(\"Einen schönen Tag wünsche ich Dir. Bis zum nächsten Mal\")\n",
    "\n",
    "\n",
    "\n",
    "### Bonusfrage-Antwort: 1. bei zwei Texteingaben als Key -> zwei Textausgaben vom Chatbot\n",
    "###                   2. Fehlerausgabe -> bei Eingabe von String bei Gewicht und Größe\n",
    "```"
   ]
  },
  {
   "cell_type": "code",
   "execution_count": null,
   "metadata": {},
   "outputs": [],
   "source": []
  }
 ],
 "metadata": {
  "kernelspec": {
   "display_name": "Python 3",
   "language": "python",
   "name": "python3"
  },
  "language_info": {
   "codemirror_mode": {
    "name": "ipython",
    "version": 3
   },
   "file_extension": ".py",
   "mimetype": "text/x-python",
   "name": "python",
   "nbconvert_exporter": "python",
   "pygments_lexer": "ipython3",
   "version": "3.8.5"
  }
 },
 "nbformat": 4,
 "nbformat_minor": 5
}
