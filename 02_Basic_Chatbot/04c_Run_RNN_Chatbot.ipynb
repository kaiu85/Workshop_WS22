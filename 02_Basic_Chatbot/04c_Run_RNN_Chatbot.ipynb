{
 "cells": [
  {
   "cell_type": "code",
   "execution_count": null,
   "metadata": {},
   "outputs": [],
   "source": [
    "from RNN_helper_functions import sample_from_rnn\n",
    "\n",
    "print(\"Welcome to the Shakespeare-Chat\")\n",
    "print(\"What did you always say to your favourite Shakespeare Character?\")\n",
    "print(\"Enter 'bye' to quit.\")\n",
    "print(\"\")\n",
    "\n",
    "ganze_konversation = \"\"\n",
    "\n",
    "nutzereingabe = \"\"\n",
    "\n",
    "while nutzereingabe != \"bye\":\n",
    "\n",
    "    nutzereingabe = input(\"Your input: \")\n",
    "    print('\\n')\n",
    "\n",
    "    ganze_konversation = ganze_konversation + nutzereingabe + '\\n'\n",
    "\n",
    "    antwort_text = sample_from_rnn(model_name = 'shakespeare_rnn', prompt = ganze_konversation, n = 2000)\n",
    "      \n",
    "    antwort = antwort_text.split('\\n')[0]\n",
    "    print(antwort)\n",
    "    print('\\n')\n",
    "\n",
    "    ganze_konversation = ganze_konversation + antwort + '\\n'   \n"
   ]
  },
  {
   "cell_type": "code",
   "execution_count": null,
   "metadata": {},
   "outputs": [],
   "source": []
  }
 ],
 "metadata": {
  "kernelspec": {
   "display_name": "Python 3",
   "language": "python",
   "name": "python3"
  },
  "language_info": {
   "codemirror_mode": {
    "name": "ipython",
    "version": 3
   },
   "file_extension": ".py",
   "mimetype": "text/x-python",
   "name": "python",
   "nbconvert_exporter": "python",
   "pygments_lexer": "ipython3",
   "version": "3.7.6"
  }
 },
 "nbformat": 4,
 "nbformat_minor": 4
}
