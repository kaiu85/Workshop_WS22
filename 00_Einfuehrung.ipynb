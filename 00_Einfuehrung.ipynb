{
 "cells": [
  {
   "cell_type": "markdown",
   "metadata": {},
   "source": [
    "### Herzlich Willkommen"
   ]
  },
  {
   "cell_type": "markdown",
   "metadata": {},
   "source": [
    "Diese Sammlung von Jupyter-Notebooks wurde von Kai Ueltzhöffer, Jens Kleesiek und Mohammed Akinci im Rahmen des Wahlfachtracks \"Digitale Medizin\" an der medizinischen Fakultät Heidelberg entwickelt, um Studierenden der Medizin erste praktische Erfahrungen im Umgang mit der Programmiersprache Python, sowie modernen Methoden der Datenverarbeitung, Visualisierung und des maschinellen Lernens zu vermitteln. Hier stellen wir ihnen die entwickelten Lehrmaterialien zur Verfügung, die mit kleineren Anpassungen in verschiedene Kursformen integriert oder in gewissem Rahmen auch zum Selbststudium genutzt werden können sein, sofern rundlegende Kenntnisse im Umgang mit Python vorhanden sind. \n",
    "\n",
    "Gute einführende Pythonkurse gibt es zum Beispiel hier:\n",
    "- https://www.w3schools.com/python/\n",
    "- https://www.python-lernen.de"
   ]
  },
  {
   "cell_type": "markdown",
   "metadata": {},
   "source": [
    "Bevor sie die Jupyter-Notebooks nutzen, müssen sie eine entsprechende Pythonumgebung installieren. Wie das mit dem kostenlosen Anaconda-Paketmanager geht, finden sie im Notebook 01_Anaconda-Tutorial erklärt."
   ]
  },
  {
   "cell_type": "markdown",
   "metadata": {},
   "source": [
    "Einige der Notebooks beziehen sich auf \"Miro-Boards\", eine einfach zu nutzende Möglichkeit, um im Rahmen von Online-Veranstaltungen gemeinsam Ergebnisse zusammen zu tragen: https://miro.com/lite/"
   ]
  },
  {
   "cell_type": "code",
   "execution_count": null,
   "metadata": {},
   "outputs": [],
   "source": []
  }
 ],
 "metadata": {
  "kernelspec": {
   "display_name": "Python 3 (ipykernel)",
   "language": "python",
   "name": "python3"
  },
  "language_info": {
   "codemirror_mode": {
    "name": "ipython",
    "version": 3
   },
   "file_extension": ".py",
   "mimetype": "text/x-python",
   "name": "python",
   "nbconvert_exporter": "python",
   "pygments_lexer": "ipython3",
   "version": "3.8.12"
  }
 },
 "nbformat": 4,
 "nbformat_minor": 4
}
