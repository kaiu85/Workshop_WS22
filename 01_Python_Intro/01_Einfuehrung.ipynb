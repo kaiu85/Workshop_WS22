{
 "cells": [
  {
   "cell_type": "markdown",
   "metadata": {
    "slideshow": {
     "slide_type": "slide"
    }
   },
   "source": [
    "# Kurze Einführung\n",
    "- Allgemeine Übersicht Programmiersprachen\n",
    "- Informationen zu Python & Jupyter\n",
    "- Python\n",
    "    - Datentypen\n",
    "    - Variablen, Funktionen, Objekte\n",
    "    - Listen und Dictionaires\n",
    "    - Kontrollstrukturen\n",
    "    - Schleifen\n",
    "    - Übungsaufgabe"
   ]
  },
  {
   "cell_type": "markdown",
   "metadata": {
    "slideshow": {
     "slide_type": "slide"
    }
   },
   "source": [
    "# Programmiersprachen allgemein\n",
    "- Grob wird unterschieden zwischen höheren Sprachen und Maschinensprachen\n",
    "  - Beispiele für Hochsprachen: Python, C++, Java\n",
    "  - Beispiel für Maschinensprache: Assembler\n",
    "\n",
    "<img src=\"images/python_code.png\" style=\"float: left; width: 30%; margin-right: 1%; margin-bottom: 0.5em;\">\n",
    "\n",
    "<img src=\"images/FASM.png\" style=\"float: left; width: 30%; margin-right: 1%; margin-bottom: 0.5em;\">\n",
    "\n",
    "<p style=\"clear: both;\">\n"
   ]
  },
  {
   "cell_type": "markdown",
   "metadata": {},
   "source": [
    "# Python\n",
    "- Anfang der 90er von Guido Van Rossum ins Leben gerufen\n",
    "- Extrem viele Bibliotheken, u.a. für Machine Learning (sklearn, pytorch, tensorflow, ...) und Webentwicklung (Django)\n",
    "- Unter den Top-5 Programmiersprachen"
   ]
  },
  {
   "cell_type": "markdown",
   "metadata": {},
   "source": [
    "# Variablen & Typen\n",
    "\n",
    "Variablen und deren Typ müssen in Python nicht deklariert (bekannt gegeben) werden, bevor man sie verwenden kann\n",
    "\n",
    "<p> </p>\n",
    "\n",
    "- **int**: Ganzzahl\n",
    "- **float**: Gleitkommazahl\n",
    "- **str**: Zeichenkette (String)\n",
    "- **bool**: Wahr oder Falsch\n",
    "\n",
    "<p> </p>\n",
    "\n",
    "Beispiele:\n",
    "- Konvertierung int -> float\n",
    "- Konvertierung float <- int\n",
    "- Konvertierung str -> int\n",
    "- Konvertierung int -> str\n",
    "- Rechenoperationen mit Zahlen\n",
    "- Zahlen und Wörter addieren?\n",
    "- Indizieren von Zeichenketten"
   ]
  },
  {
   "cell_type": "code",
   "execution_count": 1,
   "metadata": {},
   "outputs": [],
   "source": [
    "zahl = 1  # int (Ganzzahl)\n",
    "wort = 'Digitale' # string (erkennbar an Anführungszeichen \" \" oder ' ')\n",
    "richtig = True # boolean (Wahr oder Falsch)\n",
    "a1 = 1.501 # float (Kommazahl)\n",
    "\n"
   ]
  },
  {
   "cell_type": "code",
   "execution_count": 5,
   "metadata": {},
   "outputs": [
    {
     "data": {
      "text/plain": [
       "'1 Digitale'"
      ]
     },
     "execution_count": 5,
     "metadata": {},
     "output_type": "execute_result"
    }
   ],
   "source": [
    "str(zahl) + ' ' + wort   # das Zeichen '+' zum Addieren und Strings zusammenhängen \n",
    "#da zahl ein int ist -> mit str() in String umwandeln"
   ]
  },
  {
   "cell_type": "markdown",
   "metadata": {},
   "source": [
    "# Einige Datenstrukturen\n",
    "- Listen\n",
    "- Dictionaries\n",
    "\n",
    "Beispiele:\n",
    "- Erstellen\n",
    "- Zugriff\n",
    "- Manipulation\n",
    "- Operationen auf Listen"
   ]
  },
  {
   "cell_type": "code",
   "execution_count": 2,
   "metadata": {},
   "outputs": [
    {
     "name": "stdout",
     "output_type": "stream",
     "text": [
      "eins\n",
      "zwei\n",
      "Auto\n",
      "4\n"
     ]
    }
   ],
   "source": [
    "# liste erkennbar an [ ]\n",
    "liste = ['eins', 'zwei', 'drei', 'vier'] \n",
    "#liste enthält hier vier Strings  \n",
    "\n",
    "print(liste[0]) # 0 steht für erste Position in der Liste -> gibt 'eins' aus \n",
    "print(liste[1]) # 1 steht für zweite Position in der Liste -> gibt 'zwei' aus \n",
    "\n",
    "\n",
    "#dictionary Form: {Key : Value }\n",
    "sammlung = {'Fahrzeug': 'Auto', 'Räder': 4}\n",
    "\n",
    "#Key ausgeben und man erhält dazugehörigen Value\n",
    "print(sammlung['Fahrzeug'])\n",
    "\n",
    "print(sammlung['Räder']) \n",
    "\n",
    "\n"
   ]
  },
  {
   "cell_type": "markdown",
   "metadata": {},
   "source": [
    "# Wichtige Operatoren\n",
    "- Gleich: == ; Achtung = ist eine Zuweisung\n",
    "- Ungleich: !=\n",
    "- Größer: >\n",
    "- Größer gleich: >=\n",
    "- Kleiner <\n",
    "- Kleiner gleich: <=\n",
    "- Oder: or\n",
    "- (nicht) Enthalten in einer Liste: (not) in; Achtung kompletter Eintrag wird verglichen"
   ]
  },
  {
   "cell_type": "markdown",
   "metadata": {},
   "source": [
    "# if-else-Bedingung "
   ]
  },
  {
   "cell_type": "code",
   "execution_count": 3,
   "metadata": {
    "slideshow": {
     "slide_type": "subslide"
    }
   },
   "outputs": [
    {
     "name": "stdout",
     "output_type": "stream",
     "text": [
      "Mein Name ist Foo\n"
     ]
    }
   ],
   "source": [
    "name = 'Foo'\n",
    "if name == 'Foo':\n",
    "    print('Mein Name ist {}'.format('Foo'))\n",
    "elif name == 'Bar':\n",
    "    print('Hi')\n",
    "else:\n",
    "    print('Mein Name ist Hase.')\n",
    "    \n",
    "    \n",
    "    \n",
    "# falls name gleich 'Foo' ist:\n",
    "#      print(...)\n",
    "# oder falls name == 'Bar' ist:\n",
    "#      print(...)\n",
    "# ansonsten:\n",
    "#      print(...)\n",
    "\n"
   ]
  },
  {
   "cell_type": "code",
   "execution_count": 4,
   "metadata": {
    "slideshow": {
     "slide_type": "subslide"
    }
   },
   "outputs": [
    {
     "name": "stdout",
     "output_type": "stream",
     "text": [
      "5 ist kleiner als 10\n"
     ]
    }
   ],
   "source": [
    "# if-Bedingung kann auch für Zahlenvergleich verwendet werden\n",
    "\n",
    "a = 5\n",
    "b = 10\n",
    "if a < b:\n",
    "    print('{} ist kleiner als {}'.format(a, b))"
   ]
  },
  {
   "cell_type": "markdown",
   "metadata": {},
   "source": [
    "# for-schleife"
   ]
  },
  {
   "cell_type": "code",
   "execution_count": 5,
   "metadata": {},
   "outputs": [
    {
     "name": "stdout",
     "output_type": "stream",
     "text": [
      "Runde: 1\n",
      "haus\n",
      "Runde: 2\n",
      "dach\n",
      "Runde: 3\n",
      "baum\n",
      "Runde: 4\n",
      "vogel\n"
     ]
    }
   ],
   "source": [
    "# eine Liste erstellt für for-schleife\n",
    "beispielListe = ['haus', 'dach', 'baum', 'vogel']\n",
    "\n",
    "#for-Schleifen hilfreich um über Listen, Dictionaries zu iterieren\n",
    "\n",
    "\n",
    "# die Variable wort geht über jede Position in der Liste und gibt die Position aus\n",
    "runde = 0\n",
    "\n",
    "for wort in beispielListe:\n",
    "    runde = runde + 1 #die Variable (int) wird in jede Runde um 1 erhöht\n",
    "    \n",
    "    print(\"Runde: \" + str(runde) )\n",
    "    \n",
    "    print(wort)\n",
    "    \n",
    "    \n",
    "    \n",
    "# in beispielListe gibt es vier Strings (Inhalte) und daher vier Positionen  \n",
    "# die for-Schleife wird also viermal ausgeführt (bis zum letzte Position in beispielListe)"
   ]
  },
  {
   "cell_type": "code",
   "execution_count": 6,
   "metadata": {},
   "outputs": [
    {
     "name": "stdout",
     "output_type": "stream",
     "text": [
      "[1, 2, 3, 4, 5, 6, 7, 8, 9, 10]\n"
     ]
    }
   ],
   "source": [
    "ergebnis = []\n",
    "for zahl in range(1,11):       # range(1,11)-> von 1 bis 10\n",
    "    ergebnis.append(zahl)      # append(wert): hängt ganz rechts eine Wert in die Liste an\n",
    "print(ergebnis)"
   ]
  },
  {
   "cell_type": "markdown",
   "metadata": {},
   "source": [
    "# while-Schleife"
   ]
  },
  {
   "cell_type": "code",
   "execution_count": 7,
   "metadata": {},
   "outputs": [
    {
     "name": "stdout",
     "output_type": "stream",
     "text": [
      "1\n",
      "2\n",
      "3\n",
      "4\n",
      "5\n",
      "6\n",
      "7\n",
      "8\n",
      "9\n"
     ]
    }
   ],
   "source": [
    "# while-Schleife: führt jedes mal die Schleife aus bis die Bedingung nicht mehr gilt (also False)\n",
    "\n",
    "# solange i < 10 ist wird diese Schleife ausgeführt\n",
    "i = 1\n",
    "while i < 10:\n",
    "    print(i)\n",
    "    i = i + 1\n",
    "    "
   ]
  },
  {
   "cell_type": "code",
   "execution_count": null,
   "metadata": {},
   "outputs": [],
   "source": [
    "# while-Schleifen lohnen Sie auch bei Aufgaben die keine Zahlengrenze haben \n",
    "# das obere Beispiel ist eine while-Schleife mit Zahlengrenze\n",
    "a = \"hi\"\n",
    "\n",
    "while a != \"Baum\":\n",
    "    input(\"gib hier ein\")   #input man kann"
   ]
  },
  {
   "cell_type": "markdown",
   "metadata": {},
   "source": [
    "# Funktion"
   ]
  },
  {
   "cell_type": "code",
   "execution_count": null,
   "metadata": {
    "slideshow": {
     "slide_type": "fragment"
    }
   },
   "outputs": [],
   "source": [
    "# erkennbar an def\n",
    "# Kapseln von Aufgaben in einer Funktion\n",
    "\n",
    "def berechne_quadrat(zahl):    # Form: def Funktionname(...):\n",
    "    ergebnis = zahl*zahl       #              ...\n",
    "    return ergebnis"
   ]
  },
  {
   "cell_type": "code",
   "execution_count": 2,
   "metadata": {},
   "outputs": [
    {
     "name": "stdout",
     "output_type": "stream",
     "text": [
      "25\n"
     ]
    }
   ],
   "source": [
    "# Aufrufbar mit Funktionname()\n",
    "# berechne_quadrat()\n",
    "\n",
    "print(berechne_quadrat(5))"
   ]
  }
 ],
 "metadata": {
  "celltoolbar": "Slideshow",
  "kernelspec": {
   "display_name": "MLKurs",
   "language": "python",
   "name": "mlkurs"
  },
  "language_info": {
   "codemirror_mode": {
    "name": "ipython",
    "version": 3
   },
   "file_extension": ".py",
   "mimetype": "text/x-python",
   "name": "python",
   "nbconvert_exporter": "python",
   "pygments_lexer": "ipython3",
   "version": "3.7.6"
  }
 },
 "nbformat": 4,
 "nbformat_minor": 4
}
